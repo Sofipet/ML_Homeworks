{
 "cells": [
  {
   "cell_type": "markdown",
   "metadata": {
    "id": "Zl1UHn4aRLMg"
   },
   "source": [
    "# Домашнє завдання: Побудова класифікатора сентименту на основі набору даних Tweet Sentiment Extraction\n",
    "\n",
    "**Мета:** Провести аналіз набору даних, виконати векторизацію текстових даних за допомогою методів bag-of-words та TF-IDF, порівняти їх, побудувати класифікатор та провести аналіз помилок.\n",
    "\n",
    "**Набір даних:**\n",
    "Дані беремо з цього змагання на Kaggle: https://www.kaggle.com/competitions/tweet-sentiment-extraction/data?select=train.csv\n",
    "\n",
    "\n",
    "Якщо не вдається завантажиит з Kaggle, ось тут можна - https://drive.google.com/file/d/1kfu5zCRsDHxoBZigBlGIcCieKlws02HT/view?usp=sharing\n",
    "\n",
    "Оригінальне змагання має дещо іншу задачу, але ми будемо поки будувати саме класифікатор.\n",
    "\n",
    "Увага! В цьому наборі завдань для простоти експериментів ми будемо спочатку робити векторизацію на всьому наборі даних, а потім розбивку на train i test. В робочих проєктах ми теж можемо використати цей підхід для швидшої побудови PoC (proof of concept). Але фінальне рішення, яке ми будемо деплоїти - треба проводити за правилом - спочатку розбивка на трейн і тест, потім пишемо обробку для трейну, навчаємо векторизатори. І потім використовуємо готові векторизатори для тесту і всіх даних на етапі передбачення (інференсу).\n",
    "\n",
    "### Завдання 1. Завантаження та ознайомлення з набором даних\n",
    "\n",
    "- Завантажте набір даних `train.csv` з посилання та ознайомтеся з його структурою.\n",
    "- Виведіть перші 5 рядків та основну статистику: кількість записів, типи колонок, кількість пропущених значень.\n",
    "- Видаліть записи, в яких є пропущені значення.\n",
    "\n"
   ]
  },
  {
   "cell_type": "code",
   "execution_count": 1,
   "metadata": {
    "ExecuteTime": {
     "end_time": "2025-10-26T13:04:31.081240Z",
     "start_time": "2025-10-26T13:04:28.918272Z"
    }
   },
   "outputs": [
    {
     "name": "stderr",
     "output_type": "stream",
     "text": [
      "[nltk_data] Downloading package stopwords to\n",
      "[nltk_data]     /Users/sofiapetrova/nltk_data...\n",
      "[nltk_data]   Package stopwords is already up-to-date!\n"
     ]
    }
   ],
   "source": [
    "import pandas as pd\n",
    "import numpy as np\n",
    "import matplotlib.pyplot as plt\n",
    "import seaborn as sns\n",
    "import re\n",
    "import nltk\n",
    "from nltk.corpus import stopwords\n",
    "from nltk.stem import SnowballStemmer\n",
    "nltk.download('stopwords')\n",
    "\n",
    "from sklearn.feature_extraction.text import CountVectorizer, TfidfVectorizer\n",
    "from sklearn.model_selection import train_test_split\n",
    "from sklearn.preprocessing import OrdinalEncoder\n",
    "from sklearn.linear_model import LogisticRegression\n",
    "from sklearn.tree import DecisionTreeClassifier\n",
    "from sklearn.ensemble import RandomForestClassifier\n",
    "from xgboost import XGBClassifier\n",
    "from sklearn.metrics import (\n",
    "    classification_report,\n",
    "    confusion_matrix,\n",
    "    ConfusionMatrixDisplay,\n",
    "    accuracy_score,\n",
    "    precision_score,\n",
    "    recall_score,\n",
    "    f1_score\n",
    ")\n",
    "\n",
    "pd.set_option(\"display.max_colwidth\", 150)"
   ]
  },
  {
   "cell_type": "code",
   "execution_count": 2,
   "metadata": {
    "ExecuteTime": {
     "end_time": "2025-10-26T13:04:31.141573Z",
     "start_time": "2025-10-26T13:04:31.082344Z"
    },
    "id": "z9PAZcZgddHT"
   },
   "outputs": [
    {
     "data": {
      "text/html": [
       "<div>\n",
       "<style scoped>\n",
       "    .dataframe tbody tr th:only-of-type {\n",
       "        vertical-align: middle;\n",
       "    }\n",
       "\n",
       "    .dataframe tbody tr th {\n",
       "        vertical-align: top;\n",
       "    }\n",
       "\n",
       "    .dataframe thead th {\n",
       "        text-align: right;\n",
       "    }\n",
       "</style>\n",
       "<table border=\"1\" class=\"dataframe\">\n",
       "  <thead>\n",
       "    <tr style=\"text-align: right;\">\n",
       "      <th></th>\n",
       "      <th>textID</th>\n",
       "      <th>text</th>\n",
       "      <th>selected_text</th>\n",
       "      <th>sentiment</th>\n",
       "    </tr>\n",
       "  </thead>\n",
       "  <tbody>\n",
       "    <tr>\n",
       "      <th>0</th>\n",
       "      <td>cb774db0d1</td>\n",
       "      <td>I`d have responded, if I were going</td>\n",
       "      <td>I`d have responded, if I were going</td>\n",
       "      <td>neutral</td>\n",
       "    </tr>\n",
       "    <tr>\n",
       "      <th>1</th>\n",
       "      <td>549e992a42</td>\n",
       "      <td>Sooo SAD I will miss you here in San Diego!!!</td>\n",
       "      <td>Sooo SAD</td>\n",
       "      <td>negative</td>\n",
       "    </tr>\n",
       "    <tr>\n",
       "      <th>2</th>\n",
       "      <td>088c60f138</td>\n",
       "      <td>my boss is bullying me...</td>\n",
       "      <td>bullying me</td>\n",
       "      <td>negative</td>\n",
       "    </tr>\n",
       "    <tr>\n",
       "      <th>3</th>\n",
       "      <td>9642c003ef</td>\n",
       "      <td>what interview! leave me alone</td>\n",
       "      <td>leave me alone</td>\n",
       "      <td>negative</td>\n",
       "    </tr>\n",
       "    <tr>\n",
       "      <th>4</th>\n",
       "      <td>358bd9e861</td>\n",
       "      <td>Sons of ****, why couldn`t they put them on the releases we already bought</td>\n",
       "      <td>Sons of ****,</td>\n",
       "      <td>negative</td>\n",
       "    </tr>\n",
       "  </tbody>\n",
       "</table>\n",
       "</div>"
      ],
      "text/plain": [
       "       textID  \\\n",
       "0  cb774db0d1   \n",
       "1  549e992a42   \n",
       "2  088c60f138   \n",
       "3  9642c003ef   \n",
       "4  358bd9e861   \n",
       "\n",
       "                                                                          text  \\\n",
       "0                                          I`d have responded, if I were going   \n",
       "1                                Sooo SAD I will miss you here in San Diego!!!   \n",
       "2                                                    my boss is bullying me...   \n",
       "3                                               what interview! leave me alone   \n",
       "4   Sons of ****, why couldn`t they put them on the releases we already bought   \n",
       "\n",
       "                         selected_text sentiment  \n",
       "0  I`d have responded, if I were going   neutral  \n",
       "1                             Sooo SAD  negative  \n",
       "2                          bullying me  negative  \n",
       "3                       leave me alone  negative  \n",
       "4                        Sons of ****,  negative  "
      ]
     },
     "execution_count": 2,
     "metadata": {},
     "output_type": "execute_result"
    }
   ],
   "source": [
    "df = pd.read_csv(\"train 2.csv\")\n",
    "\n",
    "df.head()"
   ]
  },
  {
   "cell_type": "code",
   "execution_count": 3,
   "metadata": {
    "ExecuteTime": {
     "end_time": "2025-10-26T13:04:31.152002Z",
     "start_time": "2025-10-26T13:04:31.142591Z"
    },
    "id": "z9PAZcZgddHT"
   },
   "outputs": [
    {
     "name": "stdout",
     "output_type": "stream",
     "text": [
      "<class 'pandas.core.frame.DataFrame'>\n",
      "RangeIndex: 27481 entries, 0 to 27480\n",
      "Data columns (total 4 columns):\n",
      " #   Column         Non-Null Count  Dtype \n",
      "---  ------         --------------  ----- \n",
      " 0   textID         27481 non-null  object\n",
      " 1   text           27480 non-null  object\n",
      " 2   selected_text  27480 non-null  object\n",
      " 3   sentiment      27481 non-null  object\n",
      "dtypes: object(4)\n",
      "memory usage: 858.9+ KB\n"
     ]
    }
   ],
   "source": [
    "df.info()"
   ]
  },
  {
   "cell_type": "code",
   "execution_count": 4,
   "metadata": {
    "ExecuteTime": {
     "end_time": "2025-10-26T13:04:31.159252Z",
     "start_time": "2025-10-26T13:04:31.154145Z"
    },
    "id": "z9PAZcZgddHT"
   },
   "outputs": [
    {
     "data": {
      "text/plain": [
       "textID           0\n",
       "text             1\n",
       "selected_text    1\n",
       "sentiment        0\n",
       "dtype: int64"
      ]
     },
     "execution_count": 4,
     "metadata": {},
     "output_type": "execute_result"
    }
   ],
   "source": [
    "df.isnull().sum()"
   ]
  },
  {
   "cell_type": "code",
   "execution_count": 5,
   "metadata": {
    "ExecuteTime": {
     "end_time": "2025-10-26T13:04:31.164286Z",
     "start_time": "2025-10-26T13:04:31.160152Z"
    },
    "id": "z9PAZcZgddHT"
   },
   "outputs": [
    {
     "data": {
      "text/html": [
       "<div>\n",
       "<style scoped>\n",
       "    .dataframe tbody tr th:only-of-type {\n",
       "        vertical-align: middle;\n",
       "    }\n",
       "\n",
       "    .dataframe tbody tr th {\n",
       "        vertical-align: top;\n",
       "    }\n",
       "\n",
       "    .dataframe thead th {\n",
       "        text-align: right;\n",
       "    }\n",
       "</style>\n",
       "<table border=\"1\" class=\"dataframe\">\n",
       "  <thead>\n",
       "    <tr style=\"text-align: right;\">\n",
       "      <th></th>\n",
       "      <th>textID</th>\n",
       "      <th>text</th>\n",
       "      <th>selected_text</th>\n",
       "      <th>sentiment</th>\n",
       "    </tr>\n",
       "  </thead>\n",
       "  <tbody>\n",
       "    <tr>\n",
       "      <th>0</th>\n",
       "      <td>cb774db0d1</td>\n",
       "      <td>I`d have responded, if I were going</td>\n",
       "      <td>I`d have responded, if I were going</td>\n",
       "      <td>neutral</td>\n",
       "    </tr>\n",
       "    <tr>\n",
       "      <th>1</th>\n",
       "      <td>549e992a42</td>\n",
       "      <td>Sooo SAD I will miss you here in San Diego!!!</td>\n",
       "      <td>Sooo SAD</td>\n",
       "      <td>negative</td>\n",
       "    </tr>\n",
       "    <tr>\n",
       "      <th>2</th>\n",
       "      <td>088c60f138</td>\n",
       "      <td>my boss is bullying me...</td>\n",
       "      <td>bullying me</td>\n",
       "      <td>negative</td>\n",
       "    </tr>\n",
       "    <tr>\n",
       "      <th>3</th>\n",
       "      <td>9642c003ef</td>\n",
       "      <td>what interview! leave me alone</td>\n",
       "      <td>leave me alone</td>\n",
       "      <td>negative</td>\n",
       "    </tr>\n",
       "    <tr>\n",
       "      <th>4</th>\n",
       "      <td>358bd9e861</td>\n",
       "      <td>Sons of ****, why couldn`t they put them on the releases we already bought</td>\n",
       "      <td>Sons of ****,</td>\n",
       "      <td>negative</td>\n",
       "    </tr>\n",
       "  </tbody>\n",
       "</table>\n",
       "</div>"
      ],
      "text/plain": [
       "       textID  \\\n",
       "0  cb774db0d1   \n",
       "1  549e992a42   \n",
       "2  088c60f138   \n",
       "3  9642c003ef   \n",
       "4  358bd9e861   \n",
       "\n",
       "                                                                          text  \\\n",
       "0                                          I`d have responded, if I were going   \n",
       "1                                Sooo SAD I will miss you here in San Diego!!!   \n",
       "2                                                    my boss is bullying me...   \n",
       "3                                               what interview! leave me alone   \n",
       "4   Sons of ****, why couldn`t they put them on the releases we already bought   \n",
       "\n",
       "                         selected_text sentiment  \n",
       "0  I`d have responded, if I were going   neutral  \n",
       "1                             Sooo SAD  negative  \n",
       "2                          bullying me  negative  \n",
       "3                       leave me alone  negative  \n",
       "4                        Sons of ****,  negative  "
      ]
     },
     "execution_count": 5,
     "metadata": {},
     "output_type": "execute_result"
    }
   ],
   "source": [
    "df.head()"
   ]
  },
  {
   "cell_type": "code",
   "execution_count": 6,
   "metadata": {
    "ExecuteTime": {
     "end_time": "2025-10-26T13:04:31.172222Z",
     "start_time": "2025-10-26T13:04:31.165219Z"
    }
   },
   "outputs": [],
   "source": [
    "df = df.dropna()"
   ]
  },
  {
   "cell_type": "code",
   "execution_count": 7,
   "metadata": {
    "ExecuteTime": {
     "end_time": "2025-10-26T13:04:31.177915Z",
     "start_time": "2025-10-26T13:04:31.172890Z"
    }
   },
   "outputs": [
    {
     "data": {
      "text/plain": [
       "textID           0\n",
       "text             0\n",
       "selected_text    0\n",
       "sentiment        0\n",
       "dtype: int64"
      ]
     },
     "execution_count": 7,
     "metadata": {},
     "output_type": "execute_result"
    }
   ],
   "source": [
    "df.isnull().sum()"
   ]
  },
  {
   "cell_type": "markdown",
   "metadata": {
    "id": "BXox7UCZUU5J"
   },
   "source": [
    "### Завдання 2. Exploratory Data Analysis\n",
    "\n",
    "- Проведіть аналіз кількості класів та розподілу міток. Класи знаходяться в колонці `sentiment`.\n",
    "- Візуалізуйте розподіл довжин текстів в символах та зробіть висновок про довжини постів: якої довжини постів найбільше, що бачите з розподілу?\n",
    "\n"
   ]
  },
  {
   "cell_type": "code",
   "execution_count": 8,
   "metadata": {
    "ExecuteTime": {
     "end_time": "2025-10-26T13:04:31.183099Z",
     "start_time": "2025-10-26T13:04:31.178881Z"
    },
    "id": "aPm_wCjpde0s"
   },
   "outputs": [
    {
     "data": {
      "text/plain": [
       "sentiment\n",
       "neutral     11117\n",
       "positive     8582\n",
       "negative     7781\n",
       "Name: count, dtype: int64"
      ]
     },
     "execution_count": 8,
     "metadata": {},
     "output_type": "execute_result"
    }
   ],
   "source": [
    "sent_count = df[\"sentiment\"].value_counts()\n",
    "\n",
    "sent_count"
   ]
  },
  {
   "cell_type": "code",
   "execution_count": 9,
   "metadata": {
    "ExecuteTime": {
     "end_time": "2025-10-26T13:04:31.262406Z",
     "start_time": "2025-10-26T13:04:31.183987Z"
    },
    "id": "aPm_wCjpde0s"
   },
   "outputs": [
    {
     "data": {
      "image/png": "[encoded data removed]",
      "text/plain": [
       "<Figure size 640x480 with 1 Axes>"
      ]
     },
     "metadata": {},
     "output_type": "display_data"
    }
   ],
   "source": [
    "sent_count.plot(kind=\"bar\", color=[\"green\", \"blue\", \"red\"])\n",
    "plt.title(\"Розподіл класів сентименту\")\n",
    "plt.xlabel(\"Sentiment\")\n",
    "plt.ylabel(\"Кількість твітів\")\n",
    "plt.show()"
   ]
  },
  {
   "cell_type": "markdown",
   "metadata": {},
   "source": [
    "**Клас neutral зустрічається найчастіше, дані трохи незбалансовані, тож класифікатор може схилятися до прогнозування саме neutral сентименту.**"
   ]
  },
  {
   "cell_type": "code",
   "execution_count": 10,
   "metadata": {
    "ExecuteTime": {
     "end_time": "2025-10-26T13:04:31.350038Z",
     "start_time": "2025-10-26T13:04:31.266428Z"
    }
   },
   "outputs": [
    {
     "data": {
      "image/png": "[encoded data removed]",
      "text/plain": [
       "<Figure size 640x480 with 1 Axes>"
      ]
     },
     "metadata": {},
     "output_type": "display_data"
    },
    {
     "data": {
      "text/plain": [
       "count    27480.000000\n",
       "mean        68.330022\n",
       "std         35.603870\n",
       "min          3.000000\n",
       "25%         39.000000\n",
       "50%         64.000000\n",
       "75%         97.000000\n",
       "max        141.000000\n",
       "Name: text_length, dtype: float64"
      ]
     },
     "execution_count": 10,
     "metadata": {},
     "output_type": "execute_result"
    }
   ],
   "source": [
    "df[\"text_length\"] = df[\"text\"].apply(len)\n",
    "df[\"text_length\"].hist(bins=30, color=\"skyblue\", edgecolor=\"black\")\n",
    "plt.title(\"Розподіл довжин твітів\")\n",
    "plt.xlabel(\"Кількість символів\")\n",
    "plt.ylabel(\"Кількість записів\")\n",
    "plt.show()\n",
    "\n",
    "df[\"text_length\"].describe()"
   ]
  },
  {
   "cell_type": "markdown",
   "metadata": {},
   "source": [
    "**Найбільше коротких повідомлень (30–70 символів) як і типово для Twitter. Середня довжина твіту ≈ 68 символів. 50% твітів коротші за 64 символи, а 75% - коротші за 97 символів. Нема потреби у складній обробці довгих послідовностей.**"
   ]
  },
  {
   "cell_type": "markdown",
   "metadata": {
    "id": "KfiU4hNDWncB"
   },
   "source": [
    "### Завдання 3. Попередня обробка текстових даних та векторизація з bag of words\n",
    "\n",
    "\n",
    "Наша задача тут отримати вектори методом bag of words колонки `text`, виконавши попередню обробку тексту.\n",
    "Попередня обробка має включати\n",
    "- видалення stopwords необхідної мови\n",
    "- токенізація (розбиття текстів на фрагменти по 1 слову)\n",
    "- стеммінг слів зі `SnowballStemmer`.\n",
    "- самостійно задайте кількість слів в словнику для `sklearn.feature_extraction.text.CountVectorizer`. Можливо для цього доведеться виконати додатковий аналіз.\n",
    "\n",
    "Ви також можете додати сюди додаткові методи очистки текстів, наприклад, видалення деяких символів чи груп символів, якщо в процесі роботи побачите, що хочете щось видалити.\n",
    "\n",
    "Напишіть код аби виконати це завдання. Перед цим рекомендую детально ознайомитись з тим, що робить обʼєкт `sklearn.feature_extraction.text.CountVectorizer` за замовченням.\n",
    "\n",
    "Це завдання можна виконати двома способами - один - максимально подібно до того, як ми це робили в лекції, другий - дещо інакше перегрупувавши етапи обробки тексту.\n",
    "\n",
    "\n"
   ]
  },
  {
   "cell_type": "code",
   "execution_count": 11,
   "metadata": {
    "ExecuteTime": {
     "end_time": "2025-10-26T13:04:32.697230Z",
     "start_time": "2025-10-26T13:04:31.350792Z"
    },
    "id": "BRUG111tdhB0"
   },
   "outputs": [
    {
     "data": {
      "text/html": [
       "<div>\n",
       "<style scoped>\n",
       "    .dataframe tbody tr th:only-of-type {\n",
       "        vertical-align: middle;\n",
       "    }\n",
       "\n",
       "    .dataframe tbody tr th {\n",
       "        vertical-align: top;\n",
       "    }\n",
       "\n",
       "    .dataframe thead th {\n",
       "        text-align: right;\n",
       "    }\n",
       "</style>\n",
       "<table border=\"1\" class=\"dataframe\">\n",
       "  <thead>\n",
       "    <tr style=\"text-align: right;\">\n",
       "      <th></th>\n",
       "      <th>text</th>\n",
       "      <th>clean_text</th>\n",
       "    </tr>\n",
       "  </thead>\n",
       "  <tbody>\n",
       "    <tr>\n",
       "      <th>0</th>\n",
       "      <td>I`d have responded, if I were going</td>\n",
       "      <td>id respond go</td>\n",
       "    </tr>\n",
       "    <tr>\n",
       "      <th>1</th>\n",
       "      <td>Sooo SAD I will miss you here in San Diego!!!</td>\n",
       "      <td>sooo sad miss san diego</td>\n",
       "    </tr>\n",
       "    <tr>\n",
       "      <th>2</th>\n",
       "      <td>my boss is bullying me...</td>\n",
       "      <td>boss bulli</td>\n",
       "    </tr>\n",
       "    <tr>\n",
       "      <th>3</th>\n",
       "      <td>what interview! leave me alone</td>\n",
       "      <td>interview leav alon</td>\n",
       "    </tr>\n",
       "    <tr>\n",
       "      <th>4</th>\n",
       "      <td>Sons of ****, why couldn`t they put them on the releases we already bought</td>\n",
       "      <td>son couldnt put releas alreadi bought</td>\n",
       "    </tr>\n",
       "  </tbody>\n",
       "</table>\n",
       "</div>"
      ],
      "text/plain": [
       "                                                                          text  \\\n",
       "0                                          I`d have responded, if I were going   \n",
       "1                                Sooo SAD I will miss you here in San Diego!!!   \n",
       "2                                                    my boss is bullying me...   \n",
       "3                                               what interview! leave me alone   \n",
       "4   Sons of ****, why couldn`t they put them on the releases we already bought   \n",
       "\n",
       "                              clean_text  \n",
       "0                          id respond go  \n",
       "1                sooo sad miss san diego  \n",
       "2                             boss bulli  \n",
       "3                    interview leav alon  \n",
       "4  son couldnt put releas alreadi bought  "
      ]
     },
     "execution_count": 11,
     "metadata": {},
     "output_type": "execute_result"
    }
   ],
   "source": [
    "stop_words = set(stopwords.words(\"english\"))\n",
    "stemmer = SnowballStemmer(\"english\")\n",
    "\n",
    "def preprocess_text(text):\n",
    "    text = text.lower()                              \n",
    "    text = re.sub(r'[^a-z\\s]', '', text)             \n",
    "    tokens = text.split()                          \n",
    "    tokens = [stemmer.stem(w) for w in tokens if w not in stop_words]\n",
    "    return \" \".join(tokens)\n",
    "\n",
    "df[\"clean_text\"] = df[\"text\"].apply(preprocess_text)\n",
    "df[[\"text\", \"clean_text\"]].head()"
   ]
  },
  {
   "cell_type": "code",
   "execution_count": 12,
   "metadata": {
    "ExecuteTime": {
     "end_time": "2025-10-26T13:04:32.827397Z",
     "start_time": "2025-10-26T13:04:32.698089Z"
    }
   },
   "outputs": [
    {
     "name": "stdout",
     "output_type": "stream",
     "text": [
      "Усього унікальних слів: 22746\n"
     ]
    },
    {
     "data": {
      "text/html": [
       "<div>\n",
       "<style scoped>\n",
       "    .dataframe tbody tr th:only-of-type {\n",
       "        vertical-align: middle;\n",
       "    }\n",
       "\n",
       "    .dataframe tbody tr th {\n",
       "        vertical-align: top;\n",
       "    }\n",
       "\n",
       "    .dataframe thead th {\n",
       "        text-align: right;\n",
       "    }\n",
       "</style>\n",
       "<table border=\"1\" class=\"dataframe\">\n",
       "  <thead>\n",
       "    <tr style=\"text-align: right;\">\n",
       "      <th></th>\n",
       "      <th>word</th>\n",
       "      <th>count</th>\n",
       "    </tr>\n",
       "  </thead>\n",
       "  <tbody>\n",
       "    <tr>\n",
       "      <th>10105</th>\n",
       "      <td>im</td>\n",
       "      <td>3059</td>\n",
       "    </tr>\n",
       "    <tr>\n",
       "      <th>4470</th>\n",
       "      <td>day</td>\n",
       "      <td>2414</td>\n",
       "    </tr>\n",
       "    <tr>\n",
       "      <th>7366</th>\n",
       "      <td>go</td>\n",
       "      <td>2363</td>\n",
       "    </tr>\n",
       "    <tr>\n",
       "      <th>7190</th>\n",
       "      <td>get</td>\n",
       "      <td>1909</td>\n",
       "    </tr>\n",
       "    <tr>\n",
       "      <th>7425</th>\n",
       "      <td>good</td>\n",
       "      <td>1569</td>\n",
       "    </tr>\n",
       "  </tbody>\n",
       "</table>\n",
       "</div>"
      ],
      "text/plain": [
       "       word  count\n",
       "10105    im   3059\n",
       "4470    day   2414\n",
       "7366     go   2363\n",
       "7190    get   1909\n",
       "7425   good   1569"
      ]
     },
     "execution_count": 12,
     "metadata": {},
     "output_type": "execute_result"
    }
   ],
   "source": [
    "cv_full = CountVectorizer()\n",
    "X_full = cv_full.fit_transform(df[\"clean_text\"])\n",
    "\n",
    "words = cv_full.get_feature_names_out()\n",
    "word_counts = X_full.sum(axis=0).A1  \n",
    "freq_df = pd.DataFrame({\"word\": words, \"count\": word_counts}).sort_values(\"count\", ascending=False)\n",
    "print(\"Усього унікальних слів:\", len(freq_df))\n",
    "freq_df.head()"
   ]
  },
  {
   "cell_type": "code",
   "execution_count": 13,
   "metadata": {
    "ExecuteTime": {
     "end_time": "2025-10-26T13:04:32.832799Z",
     "start_time": "2025-10-26T13:04:32.828296Z"
    }
   },
   "outputs": [
    {
     "data": {
      "text/plain": [
       "count    22746.000000\n",
       "mean         8.633430\n",
       "std         58.143549\n",
       "min          1.000000\n",
       "25%          1.000000\n",
       "50%          1.000000\n",
       "75%          2.000000\n",
       "max       3059.000000\n",
       "Name: count, dtype: float64"
      ]
     },
     "execution_count": 13,
     "metadata": {},
     "output_type": "execute_result"
    }
   ],
   "source": [
    "freq_df[\"count\"].describe()"
   ]
  },
  {
   "cell_type": "markdown",
   "metadata": {},
   "source": [
    "**Більшість слів зустрічаються 1–2 рази, тобто майже не допомагають класифікатору, але “зашумлюють” модель.**"
   ]
  },
  {
   "cell_type": "code",
   "execution_count": 14,
   "metadata": {
    "ExecuteTime": {
     "end_time": "2025-10-26T13:04:32.840292Z",
     "start_time": "2025-10-26T13:04:32.833629Z"
    }
   },
   "outputs": [
    {
     "data": {
      "text/html": [
       "<div>\n",
       "<style scoped>\n",
       "    .dataframe tbody tr th:only-of-type {\n",
       "        vertical-align: middle;\n",
       "    }\n",
       "\n",
       "    .dataframe tbody tr th {\n",
       "        vertical-align: top;\n",
       "    }\n",
       "\n",
       "    .dataframe thead th {\n",
       "        text-align: right;\n",
       "    }\n",
       "</style>\n",
       "<table border=\"1\" class=\"dataframe\">\n",
       "  <thead>\n",
       "    <tr style=\"text-align: right;\">\n",
       "      <th></th>\n",
       "      <th>word</th>\n",
       "      <th>count</th>\n",
       "      <th>cum_sum</th>\n",
       "      <th>coverage</th>\n",
       "    </tr>\n",
       "  </thead>\n",
       "  <tbody>\n",
       "    <tr>\n",
       "      <th>10105</th>\n",
       "      <td>im</td>\n",
       "      <td>3059</td>\n",
       "      <td>3059</td>\n",
       "      <td>0.015577</td>\n",
       "    </tr>\n",
       "    <tr>\n",
       "      <th>4470</th>\n",
       "      <td>day</td>\n",
       "      <td>2414</td>\n",
       "      <td>5473</td>\n",
       "      <td>0.027870</td>\n",
       "    </tr>\n",
       "    <tr>\n",
       "      <th>7366</th>\n",
       "      <td>go</td>\n",
       "      <td>2363</td>\n",
       "      <td>7836</td>\n",
       "      <td>0.039903</td>\n",
       "    </tr>\n",
       "    <tr>\n",
       "      <th>7190</th>\n",
       "      <td>get</td>\n",
       "      <td>1909</td>\n",
       "      <td>9745</td>\n",
       "      <td>0.049624</td>\n",
       "    </tr>\n",
       "    <tr>\n",
       "      <th>7425</th>\n",
       "      <td>good</td>\n",
       "      <td>1569</td>\n",
       "      <td>11314</td>\n",
       "      <td>0.057614</td>\n",
       "    </tr>\n",
       "    <tr>\n",
       "      <th>22049</th>\n",
       "      <td>work</td>\n",
       "      <td>1483</td>\n",
       "      <td>12797</td>\n",
       "      <td>0.065166</td>\n",
       "    </tr>\n",
       "    <tr>\n",
       "      <th>12071</th>\n",
       "      <td>love</td>\n",
       "      <td>1458</td>\n",
       "      <td>14255</td>\n",
       "      <td>0.072590</td>\n",
       "    </tr>\n",
       "    <tr>\n",
       "      <th>11745</th>\n",
       "      <td>like</td>\n",
       "      <td>1454</td>\n",
       "      <td>15709</td>\n",
       "      <td>0.079995</td>\n",
       "    </tr>\n",
       "    <tr>\n",
       "      <th>5124</th>\n",
       "      <td>dont</td>\n",
       "      <td>1202</td>\n",
       "      <td>16911</td>\n",
       "      <td>0.086115</td>\n",
       "    </tr>\n",
       "    <tr>\n",
       "      <th>19939</th>\n",
       "      <td>today</td>\n",
       "      <td>1115</td>\n",
       "      <td>18026</td>\n",
       "      <td>0.091793</td>\n",
       "    </tr>\n",
       "    <tr>\n",
       "      <th>7505</th>\n",
       "      <td>got</td>\n",
       "      <td>1087</td>\n",
       "      <td>19113</td>\n",
       "      <td>0.097329</td>\n",
       "    </tr>\n",
       "    <tr>\n",
       "      <th>19832</th>\n",
       "      <td>time</td>\n",
       "      <td>1079</td>\n",
       "      <td>20192</td>\n",
       "      <td>0.102823</td>\n",
       "    </tr>\n",
       "    <tr>\n",
       "      <th>14437</th>\n",
       "      <td>one</td>\n",
       "      <td>1055</td>\n",
       "      <td>21247</td>\n",
       "      <td>0.108196</td>\n",
       "    </tr>\n",
       "    <tr>\n",
       "      <th>2877</th>\n",
       "      <td>cant</td>\n",
       "      <td>1030</td>\n",
       "      <td>22277</td>\n",
       "      <td>0.113441</td>\n",
       "    </tr>\n",
       "    <tr>\n",
       "      <th>8000</th>\n",
       "      <td>happi</td>\n",
       "      <td>993</td>\n",
       "      <td>23270</td>\n",
       "      <td>0.118497</td>\n",
       "    </tr>\n",
       "    <tr>\n",
       "      <th>21390</th>\n",
       "      <td>want</td>\n",
       "      <td>983</td>\n",
       "      <td>24253</td>\n",
       "      <td>0.123503</td>\n",
       "    </tr>\n",
       "    <tr>\n",
       "      <th>11259</th>\n",
       "      <td>know</td>\n",
       "      <td>969</td>\n",
       "      <td>25222</td>\n",
       "      <td>0.128437</td>\n",
       "    </tr>\n",
       "    <tr>\n",
       "      <th>19514</th>\n",
       "      <td>thank</td>\n",
       "      <td>962</td>\n",
       "      <td>26184</td>\n",
       "      <td>0.133336</td>\n",
       "    </tr>\n",
       "    <tr>\n",
       "      <th>13013</th>\n",
       "      <td>miss</td>\n",
       "      <td>961</td>\n",
       "      <td>27145</td>\n",
       "      <td>0.138230</td>\n",
       "    </tr>\n",
       "    <tr>\n",
       "      <th>11918</th>\n",
       "      <td>lol</td>\n",
       "      <td>953</td>\n",
       "      <td>28098</td>\n",
       "      <td>0.143083</td>\n",
       "    </tr>\n",
       "  </tbody>\n",
       "</table>\n",
       "</div>"
      ],
      "text/plain": [
       "        word  count  cum_sum  coverage\n",
       "10105     im   3059     3059  0.015577\n",
       "4470     day   2414     5473  0.027870\n",
       "7366      go   2363     7836  0.039903\n",
       "7190     get   1909     9745  0.049624\n",
       "7425    good   1569    11314  0.057614\n",
       "22049   work   1483    12797  0.065166\n",
       "12071   love   1458    14255  0.072590\n",
       "11745   like   1454    15709  0.079995\n",
       "5124    dont   1202    16911  0.086115\n",
       "19939  today   1115    18026  0.091793\n",
       "7505     got   1087    19113  0.097329\n",
       "19832   time   1079    20192  0.102823\n",
       "14437    one   1055    21247  0.108196\n",
       "2877    cant   1030    22277  0.113441\n",
       "8000   happi    993    23270  0.118497\n",
       "21390   want    983    24253  0.123503\n",
       "11259   know    969    25222  0.128437\n",
       "19514  thank    962    26184  0.133336\n",
       "13013   miss    961    27145  0.138230\n",
       "11918    lol    953    28098  0.143083"
      ]
     },
     "execution_count": 14,
     "metadata": {},
     "output_type": "execute_result"
    }
   ],
   "source": [
    "freq_df[\"cum_sum\"] = freq_df[\"count\"].cumsum()\n",
    "freq_df[\"coverage\"] = freq_df[\"cum_sum\"] / freq_df[\"count\"].sum()\n",
    "\n",
    "freq_df.head(20)"
   ]
  },
  {
   "cell_type": "code",
   "execution_count": 15,
   "metadata": {
    "ExecuteTime": {
     "end_time": "2025-10-26T13:04:32.898862Z",
     "start_time": "2025-10-26T13:04:32.841316Z"
    }
   },
   "outputs": [
    {
     "data": {
      "image/png": "[encoded data removed]",
      "text/plain": [
       "<Figure size 700x400 with 1 Axes>"
      ]
     },
     "metadata": {},
     "output_type": "display_data"
    }
   ],
   "source": [
    "plt.figure(figsize=(7,4))\n",
    "plt.plot(range(1, len(freq_df)+1), freq_df[\"coverage\"])\n",
    "plt.title(\"Покриття корпусу найчастішими словами\")\n",
    "plt.xlabel(\"Кількість найчастіших слів\")\n",
    "plt.ylabel(\"Частка покриття (%)\")\n",
    "plt.grid(True)\n",
    "plt.show()"
   ]
  },
  {
   "cell_type": "markdown",
   "metadata": {},
   "source": [
    "**5000 слів виглядає найбільш оптимальним варіантом.**"
   ]
  },
  {
   "cell_type": "code",
   "execution_count": 16,
   "metadata": {
    "ExecuteTime": {
     "end_time": "2025-10-26T13:04:33.025991Z",
     "start_time": "2025-10-26T13:04:32.900743Z"
    }
   },
   "outputs": [
    {
     "data": {
      "text/plain": [
       "(27480, 5000)"
      ]
     },
     "execution_count": 16,
     "metadata": {},
     "output_type": "execute_result"
    }
   ],
   "source": [
    "vectorizer_bow = CountVectorizer(max_features=5000)\n",
    "X_bow = vectorizer_bow.fit_transform(df[\"clean_text\"])\n",
    "X_bow.shape"
   ]
  },
  {
   "cell_type": "markdown",
   "metadata": {
    "id": "v0RHDwO7OBIJ"
   },
   "source": [
    "### Завдання 4. Побудова класифікатора\n",
    "\n",
    "- Розділіть індекси даних на навчальний та тестовий набори в обраному співвівдношенні. Використовуючи отримані індекси сфомуйте набори для тренування класифікатора `X_train_bow, X_test_bow, y_train, y_test`.\n",
    "- Навчіть класифікатор (наприклад, Logistic Regression, Decision Tree або один з алгоритмів бустингу) на даних, векторизованих методом bag-of-words. Спробуйте кілька моделей і оберіть найбільш точну :)\n",
    "- Виведіть інформацію, яка дає можливість оцінити якість класифікації.\n",
    "- Оцініть якість фінальної класифікації: вона хороша чи не дуже?\n",
    "\n"
   ]
  },
  {
   "cell_type": "code",
   "execution_count": 17,
   "metadata": {
    "ExecuteTime": {
     "end_time": "2025-10-26T13:04:33.042905Z",
     "start_time": "2025-10-26T13:04:33.026792Z"
    },
    "id": "NVdpanFFdkyo"
   },
   "outputs": [
    {
     "name": "stdout",
     "output_type": "stream",
     "text": [
      "Розмір X_train: (21984, 5000)\n",
      "Розмір X_test: (5496, 5000)\n"
     ]
    }
   ],
   "source": [
    "enc = OrdinalEncoder()\n",
    "df[\"sentiment_encoded\"] = enc.fit_transform(df[[\"sentiment\"]])\n",
    "\n",
    "y = df[\"sentiment_encoded\"]\n",
    "\n",
    "X_train_bow, X_test_bow, y_train, y_test = train_test_split(\n",
    "    X_bow, y, test_size=0.2, random_state=42, stratify=y\n",
    ")\n",
    "\n",
    "print(\"Розмір X_train:\", X_train_bow.shape)\n",
    "print(\"Розмір X_test:\", X_test_bow.shape)"
   ]
  },
  {
   "cell_type": "code",
   "execution_count": 18,
   "metadata": {
    "ExecuteTime": {
     "end_time": "2025-10-26T13:04:48.145336Z",
     "start_time": "2025-10-26T13:04:33.043889Z"
    },
    "id": "NVdpanFFdkyo"
   },
   "outputs": [
    {
     "name": "stdout",
     "output_type": "stream",
     "text": [
      "\n",
      " Навчання моделі: Logistic Regression\n",
      "Accuracy = 0.6889\n",
      "\n",
      " Навчання моделі: Decision Tree\n",
      "Accuracy = 0.6275\n",
      "\n",
      " Навчання моделі: Random Forest\n",
      "Accuracy = 0.6890\n",
      "\n",
      " Навчання моделі: XGBoost\n",
      "Accuracy = 0.6936\n",
      "\n",
      " Порівняння точності моделей:\n"
     ]
    },
    {
     "data": {
      "text/html": [
       "<div>\n",
       "<style scoped>\n",
       "    .dataframe tbody tr th:only-of-type {\n",
       "        vertical-align: middle;\n",
       "    }\n",
       "\n",
       "    .dataframe tbody tr th {\n",
       "        vertical-align: top;\n",
       "    }\n",
       "\n",
       "    .dataframe thead th {\n",
       "        text-align: right;\n",
       "    }\n",
       "</style>\n",
       "<table border=\"1\" class=\"dataframe\">\n",
       "  <thead>\n",
       "    <tr style=\"text-align: right;\">\n",
       "      <th></th>\n",
       "      <th>Model</th>\n",
       "      <th>Accuracy</th>\n",
       "    </tr>\n",
       "  </thead>\n",
       "  <tbody>\n",
       "    <tr>\n",
       "      <th>3</th>\n",
       "      <td>XGBoost</td>\n",
       "      <td>0.693595</td>\n",
       "    </tr>\n",
       "    <tr>\n",
       "      <th>2</th>\n",
       "      <td>Random Forest</td>\n",
       "      <td>0.689047</td>\n",
       "    </tr>\n",
       "    <tr>\n",
       "      <th>0</th>\n",
       "      <td>Logistic Regression</td>\n",
       "      <td>0.688865</td>\n",
       "    </tr>\n",
       "    <tr>\n",
       "      <th>1</th>\n",
       "      <td>Decision Tree</td>\n",
       "      <td>0.627547</td>\n",
       "    </tr>\n",
       "  </tbody>\n",
       "</table>\n",
       "</div>"
      ],
      "text/plain": [
       "                 Model  Accuracy\n",
       "3              XGBoost  0.693595\n",
       "2        Random Forest  0.689047\n",
       "0  Logistic Regression  0.688865\n",
       "1        Decision Tree  0.627547"
      ]
     },
     "metadata": {},
     "output_type": "display_data"
    },
    {
     "name": "stdout",
     "output_type": "stream",
     "text": [
      "\n",
      " Найкраща модель: XGBoost\n",
      "\n",
      "              precision    recall  f1-score   support\n",
      "\n",
      "    negative       0.76      0.56      0.64      1556\n",
      "     neutral       0.62      0.79      0.69      2223\n",
      "    positive       0.77      0.70      0.73      1717\n",
      "\n",
      "    accuracy                           0.69      5496\n",
      "   macro avg       0.72      0.68      0.69      5496\n",
      "weighted avg       0.71      0.69      0.69      5496\n",
      "\n"
     ]
    }
   ],
   "source": [
    "models = {\n",
    "    \"Logistic Regression\": LogisticRegression(max_iter=1000),\n",
    "    \"Decision Tree\": DecisionTreeClassifier(random_state=42),\n",
    "    \"Random Forest\": RandomForestClassifier(n_estimators=100, random_state=42),\n",
    "    \"XGBoost\": XGBClassifier(\n",
    "        n_estimators=300,\n",
    "        learning_rate=0.1,\n",
    "        max_depth=6,\n",
    "        subsample=0.8,\n",
    "        colsample_bytree=0.8,\n",
    "        random_state=42,\n",
    "        n_jobs=-1\n",
    "    )\n",
    "}\n",
    "\n",
    "\n",
    "results = []\n",
    "\n",
    "for name, model in models.items():\n",
    "    print(f\"\\n Навчання моделі: {name}\")\n",
    "    model.fit(X_train_bow, y_train)\n",
    "    y_pred = model.predict(X_test_bow)\n",
    "    acc = accuracy_score(y_test, y_pred)\n",
    "    results.append((name, acc))\n",
    "    print(f\"Accuracy = {acc:.4f}\")\n",
    "\n",
    "\n",
    "results_df = pd.DataFrame(results, columns=[\"Model\", \"Accuracy\"]).sort_values(\"Accuracy\", ascending=False)\n",
    "print(\"\\n Порівняння точності моделей:\")\n",
    "display(results_df)\n",
    "\n",
    "\n",
    "best_model_name = results_df.iloc[0, 0]\n",
    "best_model = models[best_model_name]\n",
    "print(f\"\\n Найкраща модель: {best_model_name}\\n\")\n",
    "\n",
    "y_pred_best = best_model.predict(X_test_bow)\n",
    "print(classification_report(y_test, y_pred_best, target_names=enc.categories_[0]))"
   ]
  },
  {
   "cell_type": "code",
   "execution_count": 19,
   "metadata": {
    "ExecuteTime": {
     "end_time": "2025-10-26T13:05:04.609246Z",
     "start_time": "2025-10-26T13:04:48.147017Z"
    }
   },
   "outputs": [
    {
     "data": {
      "text/html": [
       "<div>\n",
       "<style scoped>\n",
       "    .dataframe tbody tr th:only-of-type {\n",
       "        vertical-align: middle;\n",
       "    }\n",
       "\n",
       "    .dataframe tbody tr th {\n",
       "        vertical-align: top;\n",
       "    }\n",
       "\n",
       "    .dataframe thead th {\n",
       "        text-align: right;\n",
       "    }\n",
       "</style>\n",
       "<table border=\"1\" class=\"dataframe\">\n",
       "  <thead>\n",
       "    <tr style=\"text-align: right;\">\n",
       "      <th></th>\n",
       "      <th>Model</th>\n",
       "      <th>Train Accuracy</th>\n",
       "      <th>Test Accuracy</th>\n",
       "      <th>Diff</th>\n",
       "    </tr>\n",
       "  </thead>\n",
       "  <tbody>\n",
       "    <tr>\n",
       "      <th>1</th>\n",
       "      <td>Decision Tree</td>\n",
       "      <td>0.992813</td>\n",
       "      <td>0.627547</td>\n",
       "      <td>0.365266</td>\n",
       "    </tr>\n",
       "    <tr>\n",
       "      <th>2</th>\n",
       "      <td>Random Forest</td>\n",
       "      <td>0.992813</td>\n",
       "      <td>0.689047</td>\n",
       "      <td>0.303766</td>\n",
       "    </tr>\n",
       "    <tr>\n",
       "      <th>0</th>\n",
       "      <td>Logistic Regression</td>\n",
       "      <td>0.815775</td>\n",
       "      <td>0.688865</td>\n",
       "      <td>0.126910</td>\n",
       "    </tr>\n",
       "    <tr>\n",
       "      <th>3</th>\n",
       "      <td>XGBoost</td>\n",
       "      <td>0.741767</td>\n",
       "      <td>0.693595</td>\n",
       "      <td>0.048171</td>\n",
       "    </tr>\n",
       "  </tbody>\n",
       "</table>\n",
       "</div>"
      ],
      "text/plain": [
       "                 Model  Train Accuracy  Test Accuracy      Diff\n",
       "1        Decision Tree        0.992813       0.627547  0.365266\n",
       "2        Random Forest        0.992813       0.689047  0.303766\n",
       "0  Logistic Regression        0.815775       0.688865  0.126910\n",
       "3              XGBoost        0.741767       0.693595  0.048171"
      ]
     },
     "metadata": {},
     "output_type": "display_data"
    }
   ],
   "source": [
    "train_test_results = []\n",
    "\n",
    "for name, model in models.items():\n",
    "    model.fit(X_train_bow, y_train)\n",
    "    \n",
    "    y_pred_train = model.predict(X_train_bow)\n",
    "    y_pred_test = model.predict(X_test_bow)\n",
    "    \n",
    "    acc_train = accuracy_score(y_train, y_pred_train)\n",
    "    acc_test = accuracy_score(y_test, y_pred_test)\n",
    "    \n",
    "    train_test_results.append((name, acc_train, acc_test))\n",
    "\n",
    "\n",
    "train_test_df = pd.DataFrame(train_test_results, columns=[\"Model\", \"Train Accuracy\", \"Test Accuracy\"])\n",
    "train_test_df[\"Diff\"] = train_test_df[\"Train Accuracy\"] - train_test_df[\"Test Accuracy\"]\n",
    "display(train_test_df.sort_values(\"Diff\", ascending=False))"
   ]
  },
  {
   "cell_type": "markdown",
   "metadata": {},
   "source": [
    "**Побудовано чотири моделі класифікації, найвищу точність показала модель XGBoost. Класи neutral і positive розпізнаються найкраще, тоді як negative частіше плутається з нейтральними твітами. Отримані результати більш-менш задовільні для базового рівня класифікації твітів.**"
   ]
  },
  {
   "cell_type": "markdown",
   "metadata": {
    "id": "53hZa4bKP5Cx"
   },
   "source": [
    "### Завдання 5. Аналіз впливовості слів в отриманого класифікатора\n",
    "\n",
    "- Для обраної вами моделі проведіть аналіз важливості слів (ознак): які слова (токени) найбільше впливають для визначення сентименту? Чи це логічно на ваш погляд, що саме ці символи впливають найбільше/найменще?\n"
   ]
  },
  {
   "cell_type": "code",
   "execution_count": 20,
   "metadata": {
    "ExecuteTime": {
     "end_time": "2025-10-26T13:05:05.009325Z",
     "start_time": "2025-10-26T13:05:04.611728Z"
    },
    "id": "z0YBHvG4dmKb",
    "scrolled": true
   },
   "outputs": [
    {
     "name": "stdout",
     "output_type": "stream",
     "text": [
      "\n",
      "🔹 Найвпливовіші слова для класу 'negative':\n",
      "  + Позитивно впливають на передбачення цього класу:\n",
      "     exhaust, worst, stupid, miss, fail, hate, sorri, bore, suck, sad\n",
      "  - Негативно (характерні для протилежних класів):\n",
      "     awesom, glad, love, beauti, thank, cute, welcom, enjoy, amaz, great\n",
      "\n",
      "🔹 Найвпливовіші слова для класу 'neutral':\n",
      "  + Позитивно впливають на передбачення цього класу:\n",
      "     starwarsday, jst, httptwitpiccomhac, moro, sp, parvo, oooo, otherwis, how, indoor\n",
      "  - Негативно (характерні для протилежних класів):\n",
      "     forum, wtf, incred, thrill, product, congratul, impati, proud, truli, migrain\n",
      "\n",
      "🔹 Найвпливовіші слова для класу 'positive':\n",
      "  + Позитивно впливають на передбачення цього класу:\n",
      "     great, excit, nice, enjoy, glad, amaz, love, thank, cute, awesom\n",
      "  - Негативно (характерні для протилежних класів):\n",
      "     sad, shame, sorri, suck, bore, horribl, hate, miss, jealous, tire\n"
     ]
    }
   ],
   "source": [
    "log_reg = LogisticRegression(max_iter=1000)\n",
    "log_reg.fit(X_train_bow, y_train)\n",
    "\n",
    "\n",
    "feature_names = np.array(vectorizer_bow.get_feature_names_out())\n",
    "\n",
    "\n",
    "coeffs = log_reg.coef_\n",
    "\n",
    "\n",
    "for i, class_label in enumerate(enc.categories_[0]):  # ['negative', 'neutral', 'positive']\n",
    "    sorted_idx = np.argsort(coeffs[i])\n",
    "    top10 = feature_names[sorted_idx[-10:]]\n",
    "    bottom10 = feature_names[sorted_idx[:10]]\n",
    "    \n",
    "    print(f\"\\n🔹 Найвпливовіші слова для класу '{class_label}':\")\n",
    "    print(\"  + Позитивно впливають на передбачення цього класу:\")\n",
    "    print(\"    \", \", \".join(top10))\n",
    "    print(\"  - Негативно (характерні для протилежних класів):\")\n",
    "    print(\"    \", \", \".join(bottom10))"
   ]
  },
  {
   "cell_type": "code",
   "execution_count": 21,
   "metadata": {
    "ExecuteTime": {
     "end_time": "2025-10-26T13:05:05.107179Z",
     "start_time": "2025-10-26T13:05:05.010257Z"
    },
    "scrolled": false
   },
   "outputs": [
    {
     "data": {
      "image/png": "[encoded data removed]",
      "text/plain": [
       "<Figure size 800x500 with 1 Axes>"
      ]
     },
     "metadata": {},
     "output_type": "display_data"
    }
   ],
   "source": [
    "importance = best_model.feature_importances_\n",
    "\n",
    "xgb_importance = pd.DataFrame({\n",
    "    \"word\": vectorizer_bow.get_feature_names_out(),\n",
    "    \"importance\": importance\n",
    "}).sort_values(\"importance\", ascending=False).head(20)\n",
    "\n",
    "plt.figure(figsize=(8,5))\n",
    "plt.barh(xgb_importance[\"word\"], xgb_importance[\"importance\"], color=\"teal\")\n",
    "plt.gca().invert_yaxis()\n",
    "plt.title(\"Топ-20 важливих слів за XGBoost\")\n",
    "plt.show()"
   ]
  },
  {
   "cell_type": "markdown",
   "metadata": {},
   "source": [
    "**У positive домінують слова з яскравим позитивним забарвленням, у negative — класичні негативні маркери, у neutral — спокійні слова, без емоційного змісту. Виглядає цлком логічно, тобто модель справді вловлює емоційну лексику. Аналіз важливості ознак у XGBoost підтверджує, що ті самі токени мають найбільший внесок у рішення моделі.**"
   ]
  },
  {
   "cell_type": "markdown",
   "metadata": {
    "id": "FvJlvr9JRhzq"
   },
   "source": [
    "### Завдання 6. Векторизація текстів з допомогою TF-IDF. Тренування класифікатора, аналіз точності і впливовості слів.\n",
    "\n",
    "- Проведіть векторизацію текстів з векторизатором TfidfVectorizer. Реалізуйте векторизацію так, аби препроцесинг включав всі ті самі кроки, що і в випадку використання векторизації Bag of Words.\n",
    "\n",
    "- Натренуйте той самий класифікатор на TF-IDF векторах, виконавши розбивку набору даних на train, test так, аби в трейні були всі ті самі записи, що і були в попередньому завданні (це важливо для порівняння результатів).\n",
    "\n",
    "- Проаналізуйте якість класифікації вивівши потрібні для цього метрики. Чи стала якість класифікації кращою?\n",
    "\n",
    "- Які токени найбільше впливають на результат при тренуваннні класифікатора з TF-IDF векторами? Порівняйте з найважливішими токенами при Bag of Words векторизації. Яку векторизацію ви б обрали для фінальної імплементації рішення? Обґрунтуйте свій вибір.\n",
    "\n"
   ]
  },
  {
   "cell_type": "code",
   "execution_count": 22,
   "metadata": {
    "ExecuteTime": {
     "end_time": "2025-10-26T13:05:05.345291Z",
     "start_time": "2025-10-26T13:05:05.109216Z"
    },
    "id": "huUPpVhMdodx"
   },
   "outputs": [
    {
     "data": {
      "text/plain": [
       "(27480, 5000)"
      ]
     },
     "execution_count": 22,
     "metadata": {},
     "output_type": "execute_result"
    }
   ],
   "source": [
    "vectorizer_tfidf = TfidfVectorizer(max_features=5000)  \n",
    "X_tfidf = vectorizer_tfidf.fit_transform(df[\"clean_text\"])\n",
    "\n",
    "X_tfidf.shape"
   ]
  },
  {
   "cell_type": "code",
   "execution_count": 23,
   "metadata": {
    "ExecuteTime": {
     "end_time": "2025-10-26T13:05:05.354606Z",
     "start_time": "2025-10-26T13:05:05.346361Z"
    }
   },
   "outputs": [],
   "source": [
    "X_train_tfidf, X_test_tfidf, y_train, y_test = train_test_split(\n",
    "    X_tfidf, y, test_size=0.2, random_state=42, stratify=y\n",
    ")"
   ]
  },
  {
   "cell_type": "code",
   "execution_count": 24,
   "metadata": {
    "ExecuteTime": {
     "end_time": "2025-10-26T13:05:31.367367Z",
     "start_time": "2025-10-26T13:05:05.355444Z"
    }
   },
   "outputs": [
    {
     "name": "stdout",
     "output_type": "stream",
     "text": [
      "\n",
      " Навчання моделі (TF-IDF): Logistic Regression\n",
      "Accuracy = 0.6883\n",
      "\n",
      " Навчання моделі (TF-IDF): Decision Tree\n",
      "Accuracy = 0.6436\n",
      "\n",
      " Навчання моделі (TF-IDF): Random Forest\n",
      "Accuracy = 0.6965\n",
      "\n",
      " Навчання моделі (TF-IDF): XGBoost\n",
      "Accuracy = 0.6872\n",
      "\n",
      " Порівняння точності моделей (TF-IDF):\n"
     ]
    },
    {
     "data": {
      "text/html": [
       "<div>\n",
       "<style scoped>\n",
       "    .dataframe tbody tr th:only-of-type {\n",
       "        vertical-align: middle;\n",
       "    }\n",
       "\n",
       "    .dataframe tbody tr th {\n",
       "        vertical-align: top;\n",
       "    }\n",
       "\n",
       "    .dataframe thead th {\n",
       "        text-align: right;\n",
       "    }\n",
       "</style>\n",
       "<table border=\"1\" class=\"dataframe\">\n",
       "  <thead>\n",
       "    <tr style=\"text-align: right;\">\n",
       "      <th></th>\n",
       "      <th>Model</th>\n",
       "      <th>Accuracy</th>\n",
       "    </tr>\n",
       "  </thead>\n",
       "  <tbody>\n",
       "    <tr>\n",
       "      <th>2</th>\n",
       "      <td>Random Forest</td>\n",
       "      <td>0.696507</td>\n",
       "    </tr>\n",
       "    <tr>\n",
       "      <th>0</th>\n",
       "      <td>Logistic Regression</td>\n",
       "      <td>0.688319</td>\n",
       "    </tr>\n",
       "    <tr>\n",
       "      <th>3</th>\n",
       "      <td>XGBoost</td>\n",
       "      <td>0.687227</td>\n",
       "    </tr>\n",
       "    <tr>\n",
       "      <th>1</th>\n",
       "      <td>Decision Tree</td>\n",
       "      <td>0.643559</td>\n",
       "    </tr>\n",
       "  </tbody>\n",
       "</table>\n",
       "</div>"
      ],
      "text/plain": [
       "                 Model  Accuracy\n",
       "2        Random Forest  0.696507\n",
       "0  Logistic Regression  0.688319\n",
       "3              XGBoost  0.687227\n",
       "1        Decision Tree  0.643559"
      ]
     },
     "metadata": {},
     "output_type": "display_data"
    }
   ],
   "source": [
    "models_tfidf = {\n",
    "    \"Logistic Regression\": LogisticRegression(max_iter=1000),\n",
    "    \"Decision Tree\": DecisionTreeClassifier(random_state=42),\n",
    "    \"Random Forest\": RandomForestClassifier(n_estimators=100, random_state=42),\n",
    "    \"XGBoost\": XGBClassifier(\n",
    "        n_estimators=300,\n",
    "        learning_rate=0.1,\n",
    "        max_depth=6,\n",
    "        subsample=0.8,\n",
    "        colsample_bytree=0.8,\n",
    "        random_state=42,\n",
    "        n_jobs=-1\n",
    "    )\n",
    "}\n",
    "\n",
    "results_tfidf = []\n",
    "\n",
    "for name, model in models_tfidf.items():\n",
    "    print(f\"\\n Навчання моделі (TF-IDF): {name}\")\n",
    "    model.fit(X_train_tfidf, y_train)\n",
    "    y_pred = model.predict(X_test_tfidf)\n",
    "    acc = accuracy_score(y_test, y_pred)\n",
    "    results_tfidf.append((name, acc))\n",
    "    print(f\"Accuracy = {acc:.4f}\")\n",
    "\n",
    "results_tfidf_df = pd.DataFrame(results_tfidf, columns=[\"Model\", \"Accuracy\"]).sort_values(\"Accuracy\", ascending=False)\n",
    "print(\"\\n Порівняння точності моделей (TF-IDF):\")\n",
    "display(results_tfidf_df)"
   ]
  },
  {
   "cell_type": "code",
   "execution_count": 25,
   "metadata": {
    "ExecuteTime": {
     "end_time": "2025-10-26T13:05:31.856242Z",
     "start_time": "2025-10-26T13:05:31.369399Z"
    }
   },
   "outputs": [
    {
     "name": "stdout",
     "output_type": "stream",
     "text": [
      "\n",
      " Найкраща модель (TF-IDF): Random Forest\n",
      "\n",
      "              precision    recall  f1-score   support\n",
      "\n",
      "    negative       0.72      0.62      0.67      1556\n",
      "     neutral       0.65      0.72      0.68      2223\n",
      "    positive       0.75      0.74      0.74      1717\n",
      "\n",
      "    accuracy                           0.70      5496\n",
      "   macro avg       0.71      0.69      0.70      5496\n",
      "weighted avg       0.70      0.70      0.70      5496\n",
      "\n"
     ]
    }
   ],
   "source": [
    "best_model_name_tfidf = results_tfidf_df.iloc[0, 0]\n",
    "best_model_tfidf = models_tfidf[best_model_name_tfidf]\n",
    "\n",
    "print(f\"\\n Найкраща модель (TF-IDF): {best_model_name_tfidf}\\n\")\n",
    "y_pred_tfidf = best_model_tfidf.predict(X_test_tfidf)\n",
    "\n",
    "print(classification_report(y_test, y_pred_tfidf, target_names=enc.categories_[0]))"
   ]
  },
  {
   "cell_type": "code",
   "execution_count": 26,
   "metadata": {
    "ExecuteTime": {
     "end_time": "2025-10-26T13:05:59.152902Z",
     "start_time": "2025-10-26T13:05:31.857113Z"
    }
   },
   "outputs": [
    {
     "name": "stdout",
     "output_type": "stream",
     "text": [
      "\n",
      " Навчання моделі (TF-IDF): Logistic Regression\n",
      "\n",
      " Навчання моделі (TF-IDF): Decision Tree\n",
      "\n",
      " Навчання моделі (TF-IDF): Random Forest\n",
      "\n",
      " Навчання моделі (TF-IDF): XGBoost\n"
     ]
    },
    {
     "data": {
      "text/html": [
       "<div>\n",
       "<style scoped>\n",
       "    .dataframe tbody tr th:only-of-type {\n",
       "        vertical-align: middle;\n",
       "    }\n",
       "\n",
       "    .dataframe tbody tr th {\n",
       "        vertical-align: top;\n",
       "    }\n",
       "\n",
       "    .dataframe thead th {\n",
       "        text-align: right;\n",
       "    }\n",
       "</style>\n",
       "<table border=\"1\" class=\"dataframe\">\n",
       "  <thead>\n",
       "    <tr style=\"text-align: right;\">\n",
       "      <th></th>\n",
       "      <th>Model</th>\n",
       "      <th>Train Accuracy</th>\n",
       "      <th>Test Accuracy</th>\n",
       "      <th>Diff</th>\n",
       "    </tr>\n",
       "  </thead>\n",
       "  <tbody>\n",
       "    <tr>\n",
       "      <th>1</th>\n",
       "      <td>Decision Tree</td>\n",
       "      <td>0.992722</td>\n",
       "      <td>0.643559</td>\n",
       "      <td>0.349163</td>\n",
       "    </tr>\n",
       "    <tr>\n",
       "      <th>2</th>\n",
       "      <td>Random Forest</td>\n",
       "      <td>0.992722</td>\n",
       "      <td>0.696507</td>\n",
       "      <td>0.296215</td>\n",
       "    </tr>\n",
       "    <tr>\n",
       "      <th>0</th>\n",
       "      <td>Logistic Regression</td>\n",
       "      <td>0.776110</td>\n",
       "      <td>0.688319</td>\n",
       "      <td>0.087791</td>\n",
       "    </tr>\n",
       "    <tr>\n",
       "      <th>3</th>\n",
       "      <td>XGBoost</td>\n",
       "      <td>0.758597</td>\n",
       "      <td>0.687227</td>\n",
       "      <td>0.071370</td>\n",
       "    </tr>\n",
       "  </tbody>\n",
       "</table>\n",
       "</div>"
      ],
      "text/plain": [
       "                 Model  Train Accuracy  Test Accuracy      Diff\n",
       "1        Decision Tree        0.992722       0.643559  0.349163\n",
       "2        Random Forest        0.992722       0.696507  0.296215\n",
       "0  Logistic Regression        0.776110       0.688319  0.087791\n",
       "3              XGBoost        0.758597       0.687227  0.071370"
      ]
     },
     "metadata": {},
     "output_type": "display_data"
    }
   ],
   "source": [
    "train_test_results_tfidf = []\n",
    "\n",
    "for name, model in models_tfidf.items():\n",
    "    print(f\"\\n Навчання моделі (TF-IDF): {name}\")\n",
    "    model.fit(X_train_tfidf, y_train)\n",
    "\n",
    "    y_pred_train = model.predict(X_train_tfidf)\n",
    "    y_pred_test = model.predict(X_test_tfidf)\n",
    "    \n",
    "    acc_train = accuracy_score(y_train, y_pred_train)\n",
    "    acc_test = accuracy_score(y_test, y_pred_test)\n",
    "    \n",
    "    train_test_results_tfidf.append((name, acc_train, acc_test))\n",
    "\n",
    "train_test_df_tfidf = pd.DataFrame(train_test_results_tfidf, columns=[\"Model\", \"Train Accuracy\", \"Test Accuracy\"])\n",
    "train_test_df_tfidf[\"Diff\"] = train_test_df_tfidf[\"Train Accuracy\"] - train_test_df_tfidf[\"Test Accuracy\"]\n",
    "\n",
    "display(train_test_df_tfidf.sort_values(\"Diff\", ascending=False))\n"
   ]
  },
  {
   "cell_type": "code",
   "execution_count": 27,
   "metadata": {
    "ExecuteTime": {
     "end_time": "2025-10-26T13:05:59.457619Z",
     "start_time": "2025-10-26T13:05:59.154543Z"
    }
   },
   "outputs": [
    {
     "name": "stdout",
     "output_type": "stream",
     "text": [
      "\n",
      "🔹 Найвпливовіші слова для класу 'negative' (TF-IDF):\n",
      "  + Сильний позитивний вплив: tire, stupid, hurt, fail, bore, hate, suck, sorri, miss, sad\n",
      "  - Сильний негативний вплив: love, thank, awesom, hope, glad, great, nice, enjoy, cute, amaz\n",
      "\n",
      "🔹 Найвпливовіші слова для класу 'neutral' (TF-IDF):\n",
      "  + Сильний позитивний вплив: relat, werent, except, jst, otherwis, differ, moro, guitar, indoor, how\n",
      "  - Сильний негативний вплив: happi, good, fail, stupid, thank, nice, amaz, excit, funni, wtf\n",
      "\n",
      "🔹 Найвпливовіші слова для класу 'positive' (TF-IDF):\n",
      "  + Сильний позитивний вплив: enjoy, amaz, hope, good, happi, nice, great, awesom, thank, love\n",
      "  - Сильний негативний вплив: miss, sad, sorri, suck, tire, hate, bore, shame, bad, sick\n"
     ]
    }
   ],
   "source": [
    "log_reg_tfidf = LogisticRegression(max_iter=1000)\n",
    "log_reg_tfidf.fit(X_train_tfidf, y_train)\n",
    "\n",
    "feature_names_tfidf = np.array(vectorizer_tfidf.get_feature_names_out())\n",
    "coeffs_tfidf = log_reg_tfidf.coef_\n",
    "\n",
    "for i, class_label in enumerate(enc.categories_[0]):\n",
    "    sorted_idx = np.argsort(coeffs_tfidf[i])\n",
    "    top10 = feature_names_tfidf[sorted_idx[-10:]]\n",
    "    bottom10 = feature_names_tfidf[sorted_idx[:10]]\n",
    "    \n",
    "    print(f\"\\n🔹 Найвпливовіші слова для класу '{class_label}' (TF-IDF):\")\n",
    "    print(\"  + Сильний позитивний вплив:\", \", \".join(top10))\n",
    "    print(\"  - Сильний негативний вплив:\", \", \".join(bottom10))"
   ]
  },
  {
   "cell_type": "markdown",
   "metadata": {},
   "source": [
    "**Найвищу точність показала модель Random Forest, дещо перевищила результати BoW, проте доволі сильно переобучена. TF-IDF дозволив зменшити вагу часто вживаних слів і посилити вплив більш змістовних токенів. Negative вже не так сильно плутається з нейтральними твітами. Отже, TF-IDF забезпечує кращу узагальнювальну здатність і точність при тій самій кількості ознак, тому його доцільно обрати для фінальної імплементації рішення.**"
   ]
  },
  {
   "cell_type": "markdown",
   "metadata": {
    "id": "3zsp9KftOqyS"
   },
   "source": [
    "### Завдання 7. Аналіз помилок класифікації з векторизацією TF-IDF.\n",
    "\n",
    "- Проаналізуйте, на яких екземплярах помиляється класифікатор при векторизації TF-IDF.\n",
    "- На основі аналізу запропонуйте 3 шляхи поліпшення якості класифікації."
   ]
  },
  {
   "cell_type": "code",
   "execution_count": 28,
   "metadata": {
    "ExecuteTime": {
     "end_time": "2025-10-26T13:05:59.926894Z",
     "start_time": "2025-10-26T13:05:59.462885Z"
    },
    "id": "RbnvtiL8Y-D-"
   },
   "outputs": [
    {
     "data": {
      "text/html": [
       "<div>\n",
       "<style scoped>\n",
       "    .dataframe tbody tr th:only-of-type {\n",
       "        vertical-align: middle;\n",
       "    }\n",
       "\n",
       "    .dataframe tbody tr th {\n",
       "        vertical-align: top;\n",
       "    }\n",
       "\n",
       "    .dataframe thead th {\n",
       "        text-align: right;\n",
       "    }\n",
       "</style>\n",
       "<table border=\"1\" class=\"dataframe\">\n",
       "  <thead>\n",
       "    <tr style=\"text-align: right;\">\n",
       "      <th></th>\n",
       "      <th>text</th>\n",
       "      <th>true_label</th>\n",
       "      <th>pred_label</th>\n",
       "    </tr>\n",
       "  </thead>\n",
       "  <tbody>\n",
       "    <tr>\n",
       "      <th>27324</th>\n",
       "      <td>is liking this feeling</td>\n",
       "      <td>positive</td>\n",
       "      <td>negative</td>\n",
       "    </tr>\n",
       "    <tr>\n",
       "      <th>15212</th>\n",
       "      <td>_com Ohhh got it. It`s the 8830 I think  I miss the Pistons  I really hope Joe D cooks up something big!</td>\n",
       "      <td>neutral</td>\n",
       "      <td>negative</td>\n",
       "    </tr>\n",
       "    <tr>\n",
       "      <th>14826</th>\n",
       "      <td>So there aren`t anymore exams, but there is only 3 days left. I`ve just now relized this is a bad thing.  And a good thing. I dont know.</td>\n",
       "      <td>neutral</td>\n",
       "      <td>negative</td>\n",
       "    </tr>\n",
       "    <tr>\n",
       "      <th>13566</th>\n",
       "      <td>oh thas cool  you know, I only kinda knew bouts you cuz of Ericson haha when you guys were together x)</td>\n",
       "      <td>neutral</td>\n",
       "      <td>positive</td>\n",
       "    </tr>\n",
       "    <tr>\n",
       "      <th>12790</th>\n",
       "      <td>ooooh it`s you lol I didn`t know!! Have fun with your princess</td>\n",
       "      <td>positive</td>\n",
       "      <td>neutral</td>\n",
       "    </tr>\n",
       "    <tr>\n",
       "      <th>6018</th>\n",
       "      <td>I`ve lost my pocket knife  Suggestions for replacing a Ken Onion Chive?</td>\n",
       "      <td>neutral</td>\n",
       "      <td>negative</td>\n",
       "    </tr>\n",
       "    <tr>\n",
       "      <th>25588</th>\n",
       "      <td>i thought ur account  was fake. but, it`s true, sorry david!</td>\n",
       "      <td>neutral</td>\n",
       "      <td>negative</td>\n",
       "    </tr>\n",
       "    <tr>\n",
       "      <th>27037</th>\n",
       "      <td>can`t sleep so i`m watching some more Gilmore Girls</td>\n",
       "      <td>neutral</td>\n",
       "      <td>negative</td>\n",
       "    </tr>\n",
       "    <tr>\n",
       "      <th>16515</th>\n",
       "      <td>haha I fail  just remember sohcahtoa xD</td>\n",
       "      <td>neutral</td>\n",
       "      <td>negative</td>\n",
       "    </tr>\n",
       "    <tr>\n",
       "      <th>11368</th>\n",
       "      <td>A message from  Could you let people know I have been booted off</td>\n",
       "      <td>negative</td>\n",
       "      <td>neutral</td>\n",
       "    </tr>\n",
       "  </tbody>\n",
       "</table>\n",
       "</div>"
      ],
      "text/plain": [
       "                                                                                                                                           text  \\\n",
       "27324                                                                                                                    is liking this feeling   \n",
       "15212                                  _com Ohhh got it. It`s the 8830 I think  I miss the Pistons  I really hope Joe D cooks up something big!   \n",
       "14826  So there aren`t anymore exams, but there is only 3 days left. I`ve just now relized this is a bad thing.  And a good thing. I dont know.   \n",
       "13566                                    oh thas cool  you know, I only kinda knew bouts you cuz of Ericson haha when you guys were together x)   \n",
       "12790                                                                            ooooh it`s you lol I didn`t know!! Have fun with your princess   \n",
       "6018                                                                    I`ve lost my pocket knife  Suggestions for replacing a Ken Onion Chive?   \n",
       "25588                                                                              i thought ur account  was fake. but, it`s true, sorry david!   \n",
       "27037                                                                                       can`t sleep so i`m watching some more Gilmore Girls   \n",
       "16515                                                                                                   haha I fail  just remember sohcahtoa xD   \n",
       "11368                                                                          A message from  Could you let people know I have been booted off   \n",
       "\n",
       "      true_label pred_label  \n",
       "27324   positive   negative  \n",
       "15212    neutral   negative  \n",
       "14826    neutral   negative  \n",
       "13566    neutral   positive  \n",
       "12790   positive    neutral  \n",
       "6018     neutral   negative  \n",
       "25588    neutral   negative  \n",
       "27037    neutral   negative  \n",
       "16515    neutral   negative  \n",
       "11368   negative    neutral  "
      ]
     },
     "execution_count": 28,
     "metadata": {},
     "output_type": "execute_result"
    }
   ],
   "source": [
    "y_pred_tfidf = best_model_tfidf.predict(X_test_tfidf)\n",
    "\n",
    "\n",
    "errors = X_test_tfidf.shape[0]\n",
    "error_mask = (y_pred_tfidf != y_test)\n",
    "\n",
    "\n",
    "errors_df = pd.DataFrame({\n",
    "    \"text\": df.loc[y_test.index, \"text\"],  \n",
    "    \"true_label\": enc.inverse_transform(y_test.values.reshape(-1, 1)).ravel(),\n",
    "    \"pred_label\": enc.inverse_transform(y_pred_tfidf.reshape(-1, 1)).ravel()\n",
    "})\n",
    "\n",
    "\n",
    "errors_df = errors_df[errors_df[\"true_label\"] != errors_df[\"pred_label\"]]\n",
    "\n",
    "\n",
    "errors_df.sample(10, random_state=42)"
   ]
  },
  {
   "cell_type": "code",
   "execution_count": 29,
   "metadata": {
    "ExecuteTime": {
     "end_time": "2025-10-26T13:06:00.006743Z",
     "start_time": "2025-10-26T13:05:59.927766Z"
    }
   },
   "outputs": [
    {
     "data": {
      "text/plain": [
       "<Figure size 500x400 with 0 Axes>"
      ]
     },
     "metadata": {},
     "output_type": "display_data"
    },
    {
     "data": {
      "image/png": "[encoded data removed]",
      "text/plain": [
       "<Figure size 640x480 with 2 Axes>"
      ]
     },
     "metadata": {},
     "output_type": "display_data"
    }
   ],
   "source": [
    "cm = confusion_matrix(y_test, y_pred_tfidf)\n",
    "disp = ConfusionMatrixDisplay(\n",
    "    confusion_matrix=cm,\n",
    "    display_labels=enc.categories_[0]\n",
    ")\n",
    "plt.figure(figsize=(5, 4))\n",
    "disp.plot(cmap=\"Blues\", values_format=\"d\")\n",
    "plt.title(\"Confusion Matrix — Random Forest (TF-IDF)\")\n",
    "plt.show()"
   ]
  },
  {
   "cell_type": "markdown",
   "metadata": {},
   "source": [
    "**Матриця помилок показує, що найбільше помилок спостерігається між класами negative і neutral (482 випадки) та між positive і neutral (385 випадків). Це свідчить про труднощі моделі у розрізненні висловів зі слабким емоційним забарвленням, коли окремі емоційні слова не змінюють загальний тон повідомлення. Водночас позитивні та негативні твіти з яскраво вираженою емоцією розпізнаються досить добре. Для підвищення якості класифікації можна спробувати використати біграми або тріграми в TF-IDF, що дозволить моделі враховувати краще контекст; перейти до більш просунутих моделей як BERT; застосувати лематизацію замість стемінгу для збереження реальної словоформи та покращення якості ознак.**"
   ]
  },
  {
   "cell_type": "markdown",
   "metadata": {
    "id": "lFi4VWwjRS3h"
   },
   "source": [
    "І на фінал кернел для натхнення і ознайомлення з рішенням оригінальної задачі. Багато цікавих візуалізацій і аналізу є тут, а також тут розвʼязується саме проблема named entitty recognition і можна ознайомитись як це робиться - вона дещо складніша по своїй суті ніж класифікація, подумайте, чому:\n",
    "\n",
    "https://www.kaggle.com/code/tanulsingh077/twitter-sentiment-extaction-analysis-eda-and-model"
   ]
  }
 ],
 "metadata": {
  "colab": {
   "provenance": []
  },
  "kernelspec": {
   "display_name": "Python 3 (ipykernel)",
   "language": "python",
   "name": "python3"
  },
  "language_info": {
   "codemirror_mode": {
    "name": "ipython",
    "version": 3
   },
   "file_extension": ".py",
   "mimetype": "text/x-python",
   "name": "python",
   "nbconvert_exporter": "python",
   "pygments_lexer": "ipython3",
   "version": "3.10.12"
  },
  "toc": {
   "base_numbering": 1,
   "nav_menu": {},
   "number_sections": true,
   "sideBar": true,
   "skip_h1_title": false,
   "title_cell": "Table of Contents",
   "title_sidebar": "Contents",
   "toc_cell": false,
   "toc_position": {},
   "toc_section_display": true,
   "toc_window_display": false
  },
  "varInspector": {
   "cols": {
    "lenName": 16,
    "lenType": 16,
    "lenVar": 40
   },
   "kernels_config": {
    "python": {
     "delete_cmd_postfix": "",
     "delete_cmd_prefix": "del ",
     "library": "var_list.py",
     "varRefreshCmd": "print(var_dic_list())"
    },
    "r": {
     "delete_cmd_postfix": ") ",
     "delete_cmd_prefix": "rm(",
     "library": "var_list.r",
     "varRefreshCmd": "cat(var_dic_list()) "
    }
   },
   "types_to_exclude": [
    "module",
    "function",
    "builtin_function_or_method",
    "instance",
    "_Feature"
   ],
   "window_display": false
  }
 },
 "nbformat": 4,
 "nbformat_minor": 1
}
