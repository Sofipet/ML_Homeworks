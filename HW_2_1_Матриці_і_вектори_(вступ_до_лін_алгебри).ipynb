{
 "cells": [
  {
   "cell_type": "markdown",
   "metadata": {
    "id": "efug1V4CM0lT"
   },
   "source": [
    "### Завдання 1: Створення матриць та векторів\n",
    "1. Створіть `numpy` вектор `vector` розмірністю 10 з випадковими дійсними значеннями в діапазоні від 0 до 1. Можна скористатись двома альтернативними варіантами:\n",
    "  1. Генерація випадкових чисел з модулем [`random.uniform`](https://docs.python.org/3/library/random.html).\n",
    "  2. Створення вектора з допомогою метода `numpy` [np.random.rand](https://numpy.org/doc/stable/reference/random/generated/numpy.random.rand.html)\n",
    "\n",
    "2. Створіть матрицю `matrix` типу `numpy.array` розмірності 3x3 з наступними значеннями\n",
    "\n",
    "  $$\n",
    "  matrix = \\begin{bmatrix}\n",
    "  11 & 14 & 17 \\\\\n",
    "  20 & 23 & 26 \\\\\n",
    "  29 & 32 & 35\n",
    "  \\end{bmatrix}\n",
    "  $$\n",
    "\n",
    "  будь-яким відомими Вам способом.\n",
    "\n",
    "Виведіть на екран вектор і матрицю, а також їх розміри.\n"
   ]
  },
  {
   "cell_type": "code",
   "execution_count": 1,
   "metadata": {
    "ExecuteTime": {
     "end_time": "2025-06-15T16:44:23.148671Z",
     "start_time": "2025-06-15T16:44:23.142372Z"
    },
    "id": "jxA_lG2_VIMe"
   },
   "outputs": [
    {
     "name": "stdout",
     "output_type": "stream",
     "text": [
      "Вектор:\n",
      "[0.54027315 0.20337691 0.24014356 0.33121951 0.83899452 0.27644366\n",
      " 0.86441691 0.34441098 0.32179488 0.10651351]\n",
      "Розмір вектора: (10,)\n",
      "\n",
      "Матриця:\n",
      "[[11 14 17]\n",
      " [20 23 26]\n",
      " [29 32 35]]\n",
      "Розмір матриці: (3, 3)\n"
     ]
    }
   ],
   "source": [
    "import numpy as np\n",
    "\n",
    "vector = np.random.rand(10)\n",
    "\n",
    "matrix = np.array([\n",
    "    [11, 14, 17],\n",
    "    [20, 23, 26],\n",
    "    [29, 32, 35]\n",
    "])\n",
    "\n",
    "print(\"Вектор:\")\n",
    "print(vector)\n",
    "print(\"Розмір вектора:\", vector.shape)\n",
    "\n",
    "print(\"\\nМатриця:\")\n",
    "print(matrix)\n",
    "print(\"Розмір матриці:\", matrix.shape)"
   ]
  },
  {
   "cell_type": "markdown",
   "metadata": {
    "id": "TSJ1P4OuOVe2"
   },
   "source": [
    "\n",
    "### Завдання 2: Операції над векторами та матрицями\n",
    "Виконайте кожну з зазначених операцій над зазначеними оʼєктами і виведіть результат на екран:\n",
    "1. Додайте до кожного значення вектора `vector` число 10 і округліть кожне значення до 2 знаків після коми без використання циклів.\n",
    "2. Помножте кожен елемент матриці з першого завдання на 2 без використання циклів.\n",
    "3. Створіть новий вектор, який містить квадрат кожного `vector` без циклів.\n"
   ]
  },
  {
   "cell_type": "code",
   "execution_count": 2,
   "metadata": {
    "ExecuteTime": {
     "end_time": "2025-06-15T16:44:23.157417Z",
     "start_time": "2025-06-15T16:44:23.151575Z"
    },
    "id": "nAAojtyUVJXN"
   },
   "outputs": [
    {
     "name": "stdout",
     "output_type": "stream",
     "text": [
      "Вектор + 10:\n",
      "[10.54 10.2  10.24 10.33 10.84 10.28 10.86 10.34 10.32 10.11]\n",
      "\n",
      "Матриця помножена на 2:\n",
      "[[22 28 34]\n",
      " [40 46 52]\n",
      " [58 64 70]]\n",
      "\n",
      "Квадрат елементів вектора:\n",
      "[0.29189507 0.04136217 0.05766893 0.10970637 0.7039118  0.0764211\n",
      " 0.7472166  0.11861892 0.10355195 0.01134513]\n"
     ]
    }
   ],
   "source": [
    "vector_plus_10 = np.round(vector + 10, 2)\n",
    "print(\"Вектор + 10:\")\n",
    "print(vector_plus_10)\n",
    "\n",
    "matrix_times_2 = matrix * 2\n",
    "print(\"\\nМатриця помножена на 2:\")\n",
    "print(matrix_times_2)\n",
    "\n",
    "vector_squared = np.square(vector)\n",
    "print(\"\\nКвадрат елементів вектора:\")\n",
    "print(vector_squared)"
   ]
  },
  {
   "cell_type": "markdown",
   "metadata": {
    "id": "u6RvWVfhPy-k"
   },
   "source": [
    "\n",
    "### Завдання 3: Множення матриць\n",
    "1. Задані дві матриці `A` і `B`розмірностями 3x2 та 2х3. Виконайте їхнє множення, щоб отримати матрицю 2x2. Виведіть результуючу матрицю `result_matrix` на екран.\n",
    "\n",
    "2. Заданий вектор `C` розмірністю 2х1. Подумайте спочатку, яку розмірність Ви отрмаєте, коли домножите `result_matrix` на вектор `C` і який результат буде. А потім виконайте множення і виведіть результат на екран.\n",
    "\n",
    "3. Задана матриця `D` розмірністю 2х2. Подумайте спочатку, яку розмірність Ви отрмаєте, коли домножите `result_matrix` на матрицю `D` і який результат буде. А потім виконайте множення і виведіть результат на екран."
   ]
  },
  {
   "cell_type": "code",
   "execution_count": 3,
   "metadata": {
    "ExecuteTime": {
     "end_time": "2025-06-15T16:44:23.200819Z",
     "start_time": "2025-06-15T16:44:23.159583Z"
    },
    "id": "RwXfPzlbSJ44"
   },
   "outputs": [
    {
     "data": {
      "text/plain": [
       "array([[0.18, 0.53],\n",
       "       [0.75, 0.47],\n",
       "       [0.35, 0.21]])"
      ]
     },
     "metadata": {},
     "output_type": "display_data"
    },
    {
     "data": {
      "text/plain": [
       "array([[0.17, 0.58, 0.75],\n",
       "       [0.38, 0.11, 0.15]])"
      ]
     },
     "metadata": {},
     "output_type": "display_data"
    },
    {
     "data": {
      "text/plain": [
       "array([[0],\n",
       "       [1]])"
      ]
     },
     "metadata": {},
     "output_type": "display_data"
    },
    {
     "data": {
      "text/plain": [
       "array([[0, 1],\n",
       "       [1, 0]])"
      ]
     },
     "metadata": {},
     "output_type": "display_data"
    }
   ],
   "source": [
    "A = np.array(\n",
    "    [[0.18, 0.53],\n",
    "     [0.75, 0.47],\n",
    "     [0.35, 0.21]])\n",
    "\n",
    "B = np.array(\n",
    "    [[0.17, 0.58, 0.75],\n",
    "     [0.38, 0.11, 0.15]])\n",
    "\n",
    "C = np.array([[0], [1]])\n",
    "\n",
    "D = np.array([[0,1], [1,0]])\n",
    "\n",
    "display(A, B, C, D)"
   ]
  },
  {
   "cell_type": "code",
   "execution_count": 4,
   "metadata": {
    "ExecuteTime": {
     "end_time": "2025-06-15T16:44:23.220784Z",
     "start_time": "2025-06-15T16:44:23.211917Z"
    },
    "id": "z7-boTbhVKkj"
   },
   "outputs": [
    {
     "data": {
      "text/plain": [
       "array([[0.7281, 0.5202],\n",
       "       [0.2034, 0.2846]])"
      ]
     },
     "execution_count": 4,
     "metadata": {},
     "output_type": "execute_result"
    }
   ],
   "source": [
    "result_matrix = np.dot(B, A)\n",
    "result_matrix"
   ]
  },
  {
   "cell_type": "code",
   "execution_count": 5,
   "metadata": {
    "ExecuteTime": {
     "end_time": "2025-06-15T16:44:23.235350Z",
     "start_time": "2025-06-15T16:44:23.230070Z"
    },
    "id": "z7-boTbhVKkj"
   },
   "outputs": [
    {
     "name": "stdout",
     "output_type": "stream",
     "text": [
      "\n",
      "result_C (2x1):\n",
      " [[0.5202]\n",
      " [0.2846]]\n"
     ]
    }
   ],
   "source": [
    "result_C = np.dot(result_matrix, C)\n",
    "print(\"\\nresult_C (2x1):\\n\", result_C)"
   ]
  },
  {
   "cell_type": "code",
   "execution_count": 6,
   "metadata": {
    "ExecuteTime": {
     "end_time": "2025-06-15T16:44:23.244347Z",
     "start_time": "2025-06-15T16:44:23.238519Z"
    },
    "id": "z7-boTbhVKkj"
   },
   "outputs": [
    {
     "name": "stdout",
     "output_type": "stream",
     "text": [
      "\n",
      "result_D (2x2):\n",
      " [[0.5202 0.7281]\n",
      " [0.2846 0.2034]]\n"
     ]
    }
   ],
   "source": [
    "result_D = np.dot(result_matrix, D)\n",
    "print(\"\\nresult_D (2x2):\\n\", result_D)"
   ]
  },
  {
   "cell_type": "markdown",
   "metadata": {
    "id": "wohp0_cxSGpl"
   },
   "source": [
    "\n",
    "### Завдання 4: Транспонування матриць\n",
    "1. Транспонуйте `result_matrix`.\n",
    "2. Зробіть транспонування вектора `vector` і виведіть форму нової структури. Чи бачите ви зміну?\n",
    "3. Використайте операцію `numpy.expand_dims` над вектором `vector` з аргументом axis=1. Запишіть отриманий результат в змінну `column_vector` і виведіть на екран. Порівняйте з `vector`.\n",
    "4. Зробіть транспонування `column_vector`, виведіть результат на екран разом з розмірностями отриманої структури.\n",
    "\n",
    "\n"
   ]
  },
  {
   "cell_type": "code",
   "execution_count": 7,
   "metadata": {
    "ExecuteTime": {
     "end_time": "2025-06-15T16:44:23.254645Z",
     "start_time": "2025-06-15T16:44:23.247824Z"
    },
    "id": "4hFcq1baVLii"
   },
   "outputs": [
    {
     "name": "stdout",
     "output_type": "stream",
     "text": [
      "Транспонована result_matrix:\n",
      " [[0.7281 0.2034]\n",
      " [0.5202 0.2846]]\n"
     ]
    }
   ],
   "source": [
    "result_matrix_T = result_matrix.T\n",
    "print(\"Транспонована result_matrix:\\n\", result_matrix_T)"
   ]
  },
  {
   "cell_type": "code",
   "execution_count": 8,
   "metadata": {
    "ExecuteTime": {
     "end_time": "2025-06-15T16:44:23.267706Z",
     "start_time": "2025-06-15T16:44:23.259766Z"
    },
    "id": "4hFcq1baVLii",
    "scrolled": true
   },
   "outputs": [
    {
     "name": "stdout",
     "output_type": "stream",
     "text": [
      "\n",
      "Після звичайного транспонування vector:\n",
      " [0.54027315 0.20337691 0.24014356 0.33121951 0.83899452 0.27644366\n",
      " 0.86441691 0.34441098 0.32179488 0.10651351]\n",
      "Розмір: (10,)\n"
     ]
    }
   ],
   "source": [
    "vector_T = vector.T\n",
    "print(\"\\nПісля звичайного транспонування vector:\\n\", vector_T)\n",
    "print(\"Розмір:\", vector_T.shape)"
   ]
  },
  {
   "cell_type": "markdown",
   "metadata": {},
   "source": [
    "Для звичайного вектора vector (1D) транспонування нічого не змінює."
   ]
  },
  {
   "cell_type": "code",
   "execution_count": 9,
   "metadata": {
    "ExecuteTime": {
     "end_time": "2025-06-15T16:44:23.278736Z",
     "start_time": "2025-06-15T16:44:23.271193Z"
    },
    "id": "4hFcq1baVLii"
   },
   "outputs": [
    {
     "name": "stdout",
     "output_type": "stream",
     "text": [
      "\n",
      "Стовпчиковий вектор column_vector:\n",
      " [[0.54027315]\n",
      " [0.20337691]\n",
      " [0.24014356]\n",
      " [0.33121951]\n",
      " [0.83899452]\n",
      " [0.27644366]\n",
      " [0.86441691]\n",
      " [0.34441098]\n",
      " [0.32179488]\n",
      " [0.10651351]]\n",
      "Розмір: (10, 1)\n"
     ]
    }
   ],
   "source": [
    "column_vector = np.expand_dims(vector, axis=1)\n",
    "print(\"\\nСтовпчиковий вектор column_vector:\\n\", column_vector)\n",
    "print(\"Розмір:\", column_vector.shape)"
   ]
  },
  {
   "cell_type": "markdown",
   "metadata": {},
   "source": [
    "vector — це одномірний масив, тобто просто 10 чисел у лінію. Після застосування expand_dims з axis=1 ми отримали двовимірний масив, тобто стовпчик, де кожен елемент розташований у окремому рядку."
   ]
  },
  {
   "cell_type": "code",
   "execution_count": 10,
   "metadata": {
    "ExecuteTime": {
     "end_time": "2025-06-15T16:44:23.298292Z",
     "start_time": "2025-06-15T16:44:23.291014Z"
    },
    "id": "4hFcq1baVLii"
   },
   "outputs": [
    {
     "name": "stdout",
     "output_type": "stream",
     "text": [
      "\n",
      "Транспонований column_vector:\n",
      " [[0.54027315 0.20337691 0.24014356 0.33121951 0.83899452 0.27644366\n",
      "  0.86441691 0.34441098 0.32179488 0.10651351]]\n",
      "Розмір: (1, 10)\n"
     ]
    }
   ],
   "source": [
    "column_vector_T = column_vector.T\n",
    "print(\"\\nТранспонований column_vector:\\n\", column_vector_T)\n",
    "print(\"Розмір:\", column_vector_T.shape)"
   ]
  },
  {
   "cell_type": "markdown",
   "metadata": {},
   "source": [
    "Таким чином, транспонування у 2D дійсно змінює орієнтацію вектора."
   ]
  }
 ],
 "metadata": {
  "colab": {
   "provenance": []
  },
  "kernelspec": {
   "display_name": "Python 3 (ipykernel)",
   "language": "python",
   "name": "python3"
  },
  "language_info": {
   "codemirror_mode": {
    "name": "ipython",
    "version": 3
   },
   "file_extension": ".py",
   "mimetype": "text/x-python",
   "name": "python",
   "nbconvert_exporter": "python",
   "pygments_lexer": "ipython3",
   "version": "3.10.12"
  },
  "toc": {
   "base_numbering": 1,
   "nav_menu": {},
   "number_sections": true,
   "sideBar": true,
   "skip_h1_title": false,
   "title_cell": "Table of Contents",
   "title_sidebar": "Contents",
   "toc_cell": false,
   "toc_position": {},
   "toc_section_display": true,
   "toc_window_display": false
  },
  "varInspector": {
   "cols": {
    "lenName": 16,
    "lenType": 16,
    "lenVar": 40
   },
   "kernels_config": {
    "python": {
     "delete_cmd_postfix": "",
     "delete_cmd_prefix": "del ",
     "library": "var_list.py",
     "varRefreshCmd": "print(var_dic_list())"
    },
    "r": {
     "delete_cmd_postfix": ") ",
     "delete_cmd_prefix": "rm(",
     "library": "var_list.r",
     "varRefreshCmd": "cat(var_dic_list()) "
    }
   },
   "types_to_exclude": [
    "module",
    "function",
    "builtin_function_or_method",
    "instance",
    "_Feature"
   ],
   "window_display": false
  }
 },
 "nbformat": 4,
 "nbformat_minor": 1
}
