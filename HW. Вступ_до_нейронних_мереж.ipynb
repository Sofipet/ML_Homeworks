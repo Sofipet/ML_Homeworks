{
 "cells": [
  {
   "cell_type": "markdown",
   "metadata": {
    "id": "lbLHTNfSclli"
   },
   "source": [
    "**Секція 1. Логістична регресія з нуля.**\n",
    "\n",
    "Будемо крок за кроком будувати модель лог регресії з нуля для передбачення, чи буде врожай більше за 80 яблук (задача подібна до лекційної, але на класифікацію).\n",
    "\n",
    "Давайте нагадаємо основні формули для логістичної регресії.\n",
    "\n",
    "### Функція гіпотези - обчислення передбачення у логістичній регресії:\n",
    "\n",
    "$$\n",
    "\\hat{y} = \\sigma(x W^T + b) = \\frac{1}{1 + e^{-(x W^T + b)}}\n",
    "$$\n",
    "\n",
    "Де:\n",
    "- $ \\hat{y} $ — це ймовірність \"позитивного\" класу.\n",
    "- $ x $ — це вектор (або матриця для набору прикладів) вхідних даних.\n",
    "- $ W $ — це вектор (або матриця) вагових коефіцієнтів моделі.\n",
    "- $ b $ — це зміщення (bias).\n",
    "- $ \\sigma(z) $ — це сигмоїдна функція активації.\n",
    "\n",
    "### Як обчислюється сигмоїдна функція:\n",
    "\n",
    "Сигмоїдна функція $ \\sigma(z) $ має вигляд:\n",
    "\n",
    "$$\n",
    "\\sigma(z) = \\frac{1}{1 + e^{-z}}\n",
    "$$\n",
    "\n",
    "Ця функція перетворює будь-яке дійсне значення $ z $ в інтервал від 0 до 1, що дозволяє інтерпретувати вихід як ймовірність для логістичної регресії.\n",
    "\n",
    "### Формула функції втрат для логістичної регресії (бінарна крос-ентропія):\n",
    "\n",
    "Функція втрат крос-ентропії оцінює, наскільки добре модель передбачає класи, порівнюючи передбачені ймовірності $ \\hat{y} $ із справжніми мітками $ y $. Формула наступна:\n",
    "\n",
    "$$\n",
    "L(y, \\hat{y}) = - \\left[ y \\cdot \\log(\\hat{y}) + (1 - y) \\cdot \\log(1 - \\hat{y}) \\right]\n",
    "$$\n",
    "\n",
    "Де:\n",
    "- $ y $ — це справжнє значення (мітка класу, 0 або 1).\n",
    "- $ \\hat{y} $ — це передбачене значення (ймовірність).\n",
    "\n"
   ]
  },
  {
   "cell_type": "markdown",
   "metadata": {
    "id": "GtOYB-RHfc_r"
   },
   "source": [
    "1.\n",
    "Тут вже наведений код для ініціювання набору даних в форматі numpy. Перетворіть `inputs`, `targets` на `torch` тензори. Виведіть результат на екран."
   ]
  },
  {
   "cell_type": "code",
   "execution_count": 1,
   "metadata": {
    "ExecuteTime": {
     "end_time": "2025-11-01T15:33:51.673372Z",
     "start_time": "2025-11-01T15:33:50.913993Z"
    },
    "id": "3BNXSR-VdYKQ"
   },
   "outputs": [],
   "source": [
    "import torch\n",
    "import numpy as np"
   ]
  },
  {
   "cell_type": "code",
   "execution_count": 2,
   "metadata": {
    "ExecuteTime": {
     "end_time": "2025-11-01T15:33:52.677335Z",
     "start_time": "2025-11-01T15:33:52.671777Z"
    },
    "id": "QLKZ77x4v_-v"
   },
   "outputs": [],
   "source": [
    "# Вхідні дані (temp, rainfall, humidity)\n",
    "inputs = np.array([[73, 67, 43],\n",
    "                   [91, 88, 64],\n",
    "                   [87, 134, 58],\n",
    "                   [102, 43, 37],\n",
    "                   [69, 96, 70]], dtype='float32')\n",
    "\n",
    "# Таргети (apples > 80)\n",
    "targets = np.array([[0],\n",
    "                    [1],\n",
    "                    [1],\n",
    "                    [0],\n",
    "                    [1]], dtype='float32')"
   ]
  },
  {
   "cell_type": "code",
   "execution_count": 3,
   "metadata": {
    "ExecuteTime": {
     "end_time": "2025-11-01T15:33:54.632561Z",
     "start_time": "2025-11-01T15:33:54.620763Z"
    },
    "id": "KjoeaDrk6fO7"
   },
   "outputs": [
    {
     "name": "stdout",
     "output_type": "stream",
     "text": [
      "Вхідні дані:\n",
      " tensor([[ 73.,  67.,  43.],\n",
      "        [ 91.,  88.,  64.],\n",
      "        [ 87., 134.,  58.],\n",
      "        [102.,  43.,  37.],\n",
      "        [ 69.,  96.,  70.]])\n",
      "\n",
      "Мітки:\n",
      " tensor([[0.],\n",
      "        [1.],\n",
      "        [1.],\n",
      "        [0.],\n",
      "        [1.]])\n"
     ]
    }
   ],
   "source": [
    "inputs = torch.from_numpy(inputs)\n",
    "targets = torch.from_numpy(targets)\n",
    "\n",
    "print(\"Вхідні дані:\\n\", inputs)\n",
    "print(\"\\nМітки:\\n\", targets)"
   ]
  },
  {
   "cell_type": "markdown",
   "metadata": {
    "id": "iKzbJKfOgGV8"
   },
   "source": [
    "2. Ініціюйте ваги `w`, `b` для моделі логістичної регресії потрібної форми зважаючи на розмірності даних випадковими значеннями з нормального розподілу. Лишаю тут код для фіксації `random_seed`."
   ]
  },
  {
   "cell_type": "code",
   "execution_count": 4,
   "metadata": {
    "ExecuteTime": {
     "end_time": "2025-11-01T15:33:56.046917Z",
     "start_time": "2025-11-01T15:33:56.031435Z"
    },
    "id": "aXhKw6Tdj1-d"
   },
   "outputs": [
    {
     "data": {
      "text/plain": [
       "<torch._C.Generator at 0x1118f3450>"
      ]
     },
     "execution_count": 4,
     "metadata": {},
     "output_type": "execute_result"
    }
   ],
   "source": [
    "torch.random.manual_seed(1)"
   ]
  },
  {
   "cell_type": "code",
   "execution_count": 5,
   "metadata": {
    "ExecuteTime": {
     "end_time": "2025-11-01T15:33:57.290848Z",
     "start_time": "2025-11-01T15:33:57.284670Z"
    },
    "id": "eApcB7eb6h9o"
   },
   "outputs": [
    {
     "name": "stdout",
     "output_type": "stream",
     "text": [
      "Початкові ваги:\n",
      " tensor([[0.6614, 0.2669, 0.0617]], requires_grad=True)\n",
      "Початковий bias:\n",
      " tensor([0.6213], requires_grad=True)\n"
     ]
    }
   ],
   "source": [
    "w = torch.randn(1, 3, requires_grad=True) \n",
    "b = torch.randn(1, requires_grad=True)\n",
    "\n",
    "print(\"Початкові ваги:\\n\", w)\n",
    "print(\"Початковий bias:\\n\", b)"
   ]
  },
  {
   "cell_type": "markdown",
   "metadata": {
    "id": "nYGxNGTaf5s6"
   },
   "source": [
    "3. Напишіть функцію `model`, яка буде обчислювати функцію гіпотези в логістичній регресії і дозволяти робити передбачення на основі введеного рядка даних і коефіцієнтів в змінних `w`, `b`.\n",
    "\n",
    "  **Важливий момент**, що функція `model` робить обчислення на `torch.tensors`, тож для математичних обчислень використовуємо фукнціонал `torch`, наприклад:\n",
    "  - обчсилення $e^x$: `torch.exp(x)`\n",
    "  - обчсилення $log(x)$: `torch.log(x)`\n",
    "  - обчислення середнього значення вектору `x`: `torch.mean(x)`\n",
    "\n",
    "  Використайте функцію `model` для обчислення передбачень з поточними значеннями `w`, `b`.Виведіть результат обчислень на екран.\n",
    "\n",
    "  Проаналізуйте передбачення. Чи не викликають вони у вас підозр? І якщо викликають, то чим це може бути зумовлено?"
   ]
  },
  {
   "cell_type": "code",
   "execution_count": 6,
   "metadata": {
    "ExecuteTime": {
     "end_time": "2025-11-01T15:34:00.120331Z",
     "start_time": "2025-11-01T15:34:00.114088Z"
    },
    "id": "pSz2j4Fh6jBv"
   },
   "outputs": [],
   "source": [
    "def model(x, w, b):\n",
    "    z = torch.matmul(x, w.T) + b\n",
    "    y_hat = 1 / (1 + torch.exp(-z))\n",
    "    return y_hat"
   ]
  },
  {
   "cell_type": "code",
   "execution_count": 7,
   "metadata": {
    "ExecuteTime": {
     "end_time": "2025-11-01T15:34:03.530077Z",
     "start_time": "2025-11-01T15:34:03.522319Z"
    },
    "id": "pSz2j4Fh6jBv"
   },
   "outputs": [
    {
     "name": "stdout",
     "output_type": "stream",
     "text": [
      "tensor([[1.],\n",
      "        [1.],\n",
      "        [1.],\n",
      "        [1.],\n",
      "        [1.]], grad_fn=<MulBackward0>)\n"
     ]
    }
   ],
   "source": [
    "preds = model(inputs, w, b)\n",
    "print(preds)"
   ]
  },
  {
   "cell_type": "code",
   "execution_count": 8,
   "metadata": {
    "ExecuteTime": {
     "end_time": "2025-11-01T15:34:05.375399Z",
     "start_time": "2025-11-01T15:34:05.370937Z"
    }
   },
   "outputs": [
    {
     "name": "stdout",
     "output_type": "stream",
     "text": [
      "tensor([[0.],\n",
      "        [1.],\n",
      "        [1.],\n",
      "        [0.],\n",
      "        [1.]])\n"
     ]
    }
   ],
   "source": [
    "print(targets)"
   ]
  },
  {
   "cell_type": "markdown",
   "metadata": {},
   "source": [
    "**Всі передбачення вийшли рівними 1, тобто модель ніби не розрізняє класи, що вказує на проблему gradient vanishing.**"
   ]
  },
  {
   "cell_type": "markdown",
   "metadata": {
    "id": "O2AGM0Mb2yHa"
   },
   "source": [
    "4. Напишіть функцію `binary_cross_entropy`, яка приймає на вхід передбачення моделі `predicted_probs` та справжні мітки в даних `true_labels` і обчислює значення втрат (loss)  за формулою бінарної крос-ентропії для кожного екземпляра та вертає середні втрати по всьому набору даних.\n",
    "  Використайте функцію `binary_cross_entropy` для обчислення втрат для поточних передбачень моделі."
   ]
  },
  {
   "cell_type": "code",
   "execution_count": 9,
   "metadata": {
    "ExecuteTime": {
     "end_time": "2025-11-01T15:34:07.106584Z",
     "start_time": "2025-11-01T15:34:07.101470Z"
    },
    "id": "1bWlovvx6kZS"
   },
   "outputs": [],
   "source": [
    "def binary_cross_entropy(predicted_probs, true_labels):\n",
    "    loss = - (true_labels * torch.log(predicted_probs) +\n",
    "              (1 - true_labels) * torch.log(1 - predicted_probs))\n",
    "    return torch.mean(loss)"
   ]
  },
  {
   "cell_type": "code",
   "execution_count": 10,
   "metadata": {
    "ExecuteTime": {
     "end_time": "2025-11-01T15:34:08.348662Z",
     "start_time": "2025-11-01T15:34:08.343278Z"
    },
    "id": "1bWlovvx6kZS"
   },
   "outputs": [
    {
     "name": "stdout",
     "output_type": "stream",
     "text": [
      "Початковий loss: nan\n"
     ]
    }
   ],
   "source": [
    "loss = binary_cross_entropy(preds, targets)\n",
    "print(\"Початковий loss:\", loss.item())"
   ]
  },
  {
   "cell_type": "markdown",
   "metadata": {
    "id": "ZFKpQxdHi1__"
   },
   "source": [
    "5. Зробіть зворотнє поширення помилки і виведіть градієнти за параметрами `w`, `b`. Проаналізуйте їх значення. Як гадаєте, чому вони саме такі?"
   ]
  },
  {
   "cell_type": "code",
   "execution_count": 11,
   "metadata": {
    "ExecuteTime": {
     "end_time": "2025-11-01T15:34:10.040701Z",
     "start_time": "2025-11-01T15:34:09.995396Z"
    },
    "id": "YAbXUNSJ6mCl"
   },
   "outputs": [
    {
     "name": "stdout",
     "output_type": "stream",
     "text": [
      "Градієнти w:\n",
      " tensor([[nan, nan, nan]])\n",
      "Градієнти b:\n",
      " tensor([nan])\n"
     ]
    }
   ],
   "source": [
    "loss.backward()\n",
    "\n",
    "print(\"Градієнти w:\\n\", w.grad)\n",
    "print(\"Градієнти b:\\n\", b.grad)"
   ]
  },
  {
   "cell_type": "markdown",
   "metadata": {},
   "source": [
    "**Якщо loss є nan, то й усі градієнти автоматично стають nan, бо вони обчислюються з похідних від цього nan-значення.**"
   ]
  },
  {
   "cell_type": "markdown",
   "metadata": {
    "id": "nDN1t1RujQsK"
   },
   "source": [
    "**Що сталось?**\n",
    "\n",
    "В цій задачі, коли ми ініціювали значення випадковими значеннями з нормального розподілу, насправді ці значення не були дуже гарними стартовими значеннями і привели до того, що градієнти стали дуже малими або навіть рівними нулю (це призводить до того, що градієнти \"зникають\"), і відповідно при оновленні ваг у нас не буде нічого змінюватись. Це називається `gradient vanishing`. Це відбувається через **насичення сигмоїдної функції активації.**\n",
    "\n",
    "У нашій задачі ми використовуємо сигмоїдну функцію активації, яка має такий вигляд:\n",
    "\n",
    "   $$\n",
    "   \\sigma(z) = \\frac{1}{1 + e^{-z}}\n",
    "   $$\n",
    "\n",
    "\n",
    "Коли значення $z$ дуже велике або дуже мале, сигмоїдна функція починає \"насичуватись\". Це означає, що для великих позитивних $z$ сигмоїда наближається до 1, а для великих негативних — до 0. В цих діапазонах градієнти починають стрімко зменшуватись і наближаються до нуля (бо градієнт - це похідна, похідна на проміжку функції, де вона паралельна осі ОХ, дорівнює 0), що робить оновлення ваг неможливим.\n",
    "\n",
    "![](https://editor.analyticsvidhya.com/uploads/27889vaegp.png)\n",
    "\n",
    "У логістичній регресії $ z = x \\cdot w + b $. Якщо ваги $w, b$ - великі, значення $z$ також буде великим, і сигмоїда перейде в насичену область, де градієнти дуже малі.\n",
    "\n",
    "Саме це сталося в нашій задачі, де великі випадкові значення ваг викликали насичення сигмоїдної функції. Це в свою чергу призводить до того, що під час зворотного поширення помилки (backpropagation) модель оновлює ваги дуже повільно або зовсім не оновлює. Це називається проблемою **зникнення градієнтів** (gradient vanishing problem).\n",
    "\n",
    "**Що ж робити?**\n",
    "Ініціювати ваги маленькими значеннями навколо нуля. Наприклад ми можемо просто в існуючій ініціалізації ваги розділити на 1000. Можна також використати інший спосіб ініціалізації вагів - інформація про це [тут](https://www.geeksforgeeks.org/initialize-weights-in-pytorch/).\n",
    "\n",
    "Як це робити - показую нижче. **Виконайте код та знову обчисліть передбачення, лосс і виведіть градієнти.**\n",
    "\n",
    "А я пишу пояснення, чому просто не зробити\n",
    "\n",
    "```\n",
    "w = torch.randn(1, 3, requires_grad=True)/1000\n",
    "b = torch.randn(1, requires_grad=True)/1000\n",
    "```\n",
    "\n",
    "Нам потрібно, аби тензори вагів були листовими (leaf tensors).\n",
    "\n",
    "1. **Що таке листовий тензор**\n",
    "Листовий тензор — це тензор, який був створений користувачем безпосередньо і з якого починається обчислювальний граф. Якщо такий тензор має `requires_grad=True`, PyTorch буде відслідковувати всі операції, виконані над ним, щоб правильно обчислювати градієнти під час навчання.\n",
    "\n",
    "2. **Чому ми використовуємо `w.data` замість звичайних операцій**\n",
    "Якщо ми просто виконали б операції, такі як `(w - 0.5) / 100`, ми б отримали **новий тензор**, який вже не був би листовим тензором, оскільки ці операції створюють **новий** тензор, а не модифікують існуючий.\n",
    "\n",
    "  Проте, щоб залишити наші тензори ваги `w` та зміщення `b` листовими і продовжити можливість відстеження градієнтів під час тренування, ми використовуємо атрибут `.data`. Цей атрибут дозволяє **виконувати операції in-place (прямо на існуючому тензорі)** без зміни самого об'єкта тензора. Отже, тензор залишається листовим, і PyTorch може коректно обчислювати його градієнти.\n",
    "\n",
    "3. **Чому важливо залишити тензор листовим**\n",
    "Якщо тензор більше не є листовим (наприклад, через проведення операцій, що створюють нові тензори), ви не зможете отримати градієнти за допомогою `w.grad` чи `b.grad` після виклику `loss.backward()`. Це може призвести до втрати можливості оновлення параметрів під час тренування моделі. В нашому випадку ми хочемо, щоб тензори `w` та `b` накопичували градієнти, тому вони повинні залишатись листовими.\n",
    "\n",
    "**Висновок:**\n",
    "Ми використовуємо `.data`, щоб виконати операції зміни значень на ваги і зміщення **in-place**, залишаючи їх листовими тензорами, які можуть накопичувати градієнти під час навчання. Це дозволяє коректно працювати механізму зворотного поширення помилки (backpropagation) і оновлювати ваги моделі."
   ]
  },
  {
   "cell_type": "markdown",
   "metadata": {
    "id": "rOPSQyttpVjO"
   },
   "source": [
    "5. Виконайте код та знову обчисліть передбачення, лосс і знайдіть градієнти та виведіть всі ці тензори на екран."
   ]
  },
  {
   "cell_type": "code",
   "execution_count": 12,
   "metadata": {
    "ExecuteTime": {
     "end_time": "2025-11-01T15:34:13.915546Z",
     "start_time": "2025-11-01T15:34:13.908730Z"
    },
    "id": "-EBOJ3tsnRaD"
   },
   "outputs": [],
   "source": [
    "torch.random.manual_seed(1)\n",
    "w = torch.randn(1, 3, requires_grad=True)  # Листовий тензор\n",
    "b = torch.randn(1, requires_grad=True)     # Листовий тензор\n",
    "\n",
    "# in-place операції\n",
    "w.data = w.data / 1000\n",
    "b.data = b.data / 1000"
   ]
  },
  {
   "cell_type": "code",
   "execution_count": 13,
   "metadata": {
    "ExecuteTime": {
     "end_time": "2025-11-01T15:34:15.250110Z",
     "start_time": "2025-11-01T15:34:15.242987Z"
    }
   },
   "outputs": [
    {
     "name": "stdout",
     "output_type": "stream",
     "text": [
      "Малі ініціалізовані ваги:\n",
      " tensor([[6.6135e-04, 2.6692e-04, 6.1677e-05]], requires_grad=True)\n",
      "Малий bias:\n",
      " tensor([0.0006], requires_grad=True)\n"
     ]
    }
   ],
   "source": [
    "print(\"Малі ініціалізовані ваги:\\n\", w)\n",
    "print(\"Малий bias:\\n\", b)"
   ]
  },
  {
   "cell_type": "code",
   "execution_count": 14,
   "metadata": {
    "ExecuteTime": {
     "end_time": "2025-11-01T15:34:16.671224Z",
     "start_time": "2025-11-01T15:34:16.661403Z"
    },
    "id": "-JwXiSpX6orh"
   },
   "outputs": [
    {
     "name": "stdout",
     "output_type": "stream",
     "text": [
      "Передбачення після масштабування ваг:\n",
      " tensor([[0.5174],\n",
      "        [0.5220],\n",
      "        [0.5244],\n",
      "        [0.5204],\n",
      "        [0.5190]], grad_fn=<MulBackward0>)\n",
      "Loss: 0.6829456686973572\n",
      "Градієнти w:\n",
      " tensor([[ -5.4417, -18.9853, -10.0682]])\n",
      "Градієнти b:\n",
      " tensor([-0.0794])\n"
     ]
    }
   ],
   "source": [
    "preds = model(inputs, w, b)\n",
    "loss = binary_cross_entropy(preds, targets)\n",
    "loss.backward()\n",
    "\n",
    "print(\"Передбачення після масштабування ваг:\\n\", preds)\n",
    "print(\"Loss:\", loss.item())\n",
    "print(\"Градієнти w:\\n\", w.grad)\n",
    "print(\"Градієнти b:\\n\", b.grad)\n",
    "\n",
    "# Тепер модель може вчитись"
   ]
  },
  {
   "cell_type": "markdown",
   "metadata": {
    "id": "RCdi44IT334o"
   },
   "source": [
    "6. Напишіть алгоритм градієнтного спуску, який буде навчати модель з використанням написаних раніше функцій і виконуючи оновлення ваг. Алгоритм має включати наступні кроки:\n",
    "\n",
    "  1. Генерація прогнозів\n",
    "  2. Обчислення втрат\n",
    "  3. Обчислення градієнтів (gradients) loss-фукнції відносно ваг і зсувів\n",
    "  4. Налаштування ваг шляхом віднімання невеликої величини, пропорційної градієнту (`learning_rate` домножений на градієнт)\n",
    "  5. Скидання градієнтів на нуль\n",
    "\n",
    "Виконайте градієнтний спуск протягом 1000 епох, обчисліть фінальні передбачення і проаналізуйте, чи вони точні?"
   ]
  },
  {
   "cell_type": "code",
   "execution_count": 15,
   "metadata": {
    "ExecuteTime": {
     "end_time": "2025-11-01T15:34:19.037718Z",
     "start_time": "2025-11-01T15:34:18.893568Z"
    },
    "id": "mObHPyE06qsO"
   },
   "outputs": [
    {
     "name": "stdout",
     "output_type": "stream",
     "text": [
      "Епоха 0: loss = 0.6829\n",
      "Епоха 100: loss = 0.5619\n",
      "Епоха 200: loss = 0.5066\n",
      "Епоха 300: loss = 0.4646\n",
      "Епоха 400: loss = 0.4324\n",
      "Епоха 500: loss = 0.4071\n",
      "Епоха 600: loss = 0.3869\n",
      "Епоха 700: loss = 0.3705\n",
      "Епоха 800: loss = 0.3569\n",
      "Епоха 900: loss = 0.3454\n",
      "\n",
      "Фінальні передбачення:\n",
      " tensor([[0.5777],\n",
      "        [0.6685],\n",
      "        [0.9113],\n",
      "        [0.1616],\n",
      "        [0.8653]], grad_fn=<MulBackward0>)\n",
      "Справжні значення:\n",
      " tensor([[0.],\n",
      "        [1.],\n",
      "        [1.],\n",
      "        [0.],\n",
      "        [1.]])\n"
     ]
    }
   ],
   "source": [
    "learning_rate = 1e-5\n",
    "num_epochs = 1000\n",
    "\n",
    "for epoch in range(num_epochs):\n",
    "    preds = model(inputs, w, b)\n",
    "    loss = binary_cross_entropy(preds, targets)\n",
    "    loss.backward()\n",
    "    with torch.no_grad():\n",
    "        w -= learning_rate * w.grad\n",
    "        b -= learning_rate * b.grad\n",
    "        w.grad.zero_()\n",
    "        b.grad.zero_()\n",
    "\n",
    "    if epoch % 100 == 0:\n",
    "        print(f\"Епоха {epoch}: loss = {loss.item():.4f}\")\n",
    "\n",
    "final_preds = model(inputs, w, b)\n",
    "print(\"\\nФінальні передбачення:\\n\", final_preds)\n",
    "print(\"Справжні значення:\\n\", targets)"
   ]
  },
  {
   "cell_type": "markdown",
   "metadata": {},
   "source": [
    "**Nan немає, loss зменшується і передбачення більш-менш коректні, окрім першого випадку.**"
   ]
  },
  {
   "cell_type": "markdown",
   "metadata": {
    "id": "fuRhlyF9qAia"
   },
   "source": [
    "**Секція 2. Створення лог регресії з використанням функціоналу `torch.nn`.**\n",
    "\n",
    "Давайте повторно реалізуємо ту ж модель, використовуючи деякі вбудовані функції та класи з PyTorch.\n",
    "\n",
    "Даних у нас буде побільше - тож, визначаємо нові масиви."
   ]
  },
  {
   "cell_type": "code",
   "execution_count": 16,
   "metadata": {
    "ExecuteTime": {
     "end_time": "2025-11-01T15:34:23.928013Z",
     "start_time": "2025-11-01T15:34:23.640606Z"
    }
   },
   "outputs": [],
   "source": [
    "import torch\n",
    "from torch.utils.data import TensorDataset, DataLoader\n",
    "import torch.nn as nn\n",
    "import torch.nn.functional as F\n",
    "import matplotlib.pyplot as plt"
   ]
  },
  {
   "cell_type": "code",
   "execution_count": 17,
   "metadata": {
    "ExecuteTime": {
     "end_time": "2025-11-01T15:34:25.456782Z",
     "start_time": "2025-11-01T15:34:25.444494Z"
    },
    "id": "IX8Bhm74rV4M"
   },
   "outputs": [],
   "source": [
    "# Вхідні дані (temp, rainfall, humidity)\n",
    "inputs = np.array([[73, 67, 43],\n",
    "                   [91, 88, 64],\n",
    "                   [87, 134, 58],\n",
    "                   [102, 43, 37],\n",
    "                   [69, 96, 70],\n",
    "                   [73, 67, 43],\n",
    "                   [91, 88, 64],\n",
    "                   [87, 134, 58],\n",
    "                   [102, 43, 37],\n",
    "                   [69, 96, 70],\n",
    "                   [73, 67, 43],\n",
    "                   [91, 88, 64],\n",
    "                   [87, 134, 58],\n",
    "                   [102, 43, 37],\n",
    "                   [69, 96, 70]], dtype='float32')\n",
    "\n",
    "# Таргети (apples > 80)\n",
    "targets = np.array([[0],\n",
    "                    [1],\n",
    "                    [1],\n",
    "                    [0],\n",
    "                    [1],\n",
    "                    [0],\n",
    "                    [1],\n",
    "                    [1],\n",
    "                    [0],\n",
    "                    [1],\n",
    "                    [0],\n",
    "                    [1],\n",
    "                    [1],\n",
    "                    [0],\n",
    "                    [1]], dtype='float32')"
   ]
  },
  {
   "cell_type": "markdown",
   "metadata": {
    "id": "7X2dV30KtAPu"
   },
   "source": [
    "7. Завантажте вхідні дані та мітки в PyTorch тензори та з них створіть датасет, який поєднує вхідні дані з мітками, використовуючи клас `TensorDataset`. Виведіть перші 3 елементи в датасеті.\n",
    "\n"
   ]
  },
  {
   "cell_type": "code",
   "execution_count": 18,
   "metadata": {
    "ExecuteTime": {
     "end_time": "2025-11-01T15:34:28.654423Z",
     "start_time": "2025-11-01T15:34:28.600234Z"
    },
    "id": "chrvMfBs6vjo"
   },
   "outputs": [
    {
     "name": "stdout",
     "output_type": "stream",
     "text": [
      "Перші 3 елементи датасету:\n"
     ]
    },
    {
     "data": {
      "text/plain": [
       "(tensor([[ 73.,  67.,  43.],\n",
       "         [ 91.,  88.,  64.],\n",
       "         [ 87., 134.,  58.]]),\n",
       " tensor([[0.],\n",
       "         [1.],\n",
       "         [1.]]))"
      ]
     },
     "execution_count": 18,
     "metadata": {},
     "output_type": "execute_result"
    }
   ],
   "source": [
    "inputs = torch.from_numpy(inputs)\n",
    "targets = torch.from_numpy(targets)\n",
    "\n",
    "train_ds = TensorDataset(inputs, targets)\n",
    "print(\"Перші 3 елементи датасету:\")\n",
    "train_ds[0:3]"
   ]
  },
  {
   "cell_type": "markdown",
   "metadata": {
    "id": "4nMFaa8suOd3"
   },
   "source": [
    "8. Визначте data loader з класом **DataLoader** для підготовленого датасету `train_ds`, встановіть розмір батчу на 5 та увімкніть перемішування даних для ефективного навчання моделі. Виведіть перший елемент в дата лоадері."
   ]
  },
  {
   "cell_type": "code",
   "execution_count": 19,
   "metadata": {
    "ExecuteTime": {
     "end_time": "2025-11-01T15:34:30.934381Z",
     "start_time": "2025-11-01T15:34:30.922517Z"
    },
    "id": "ZCsRo5Mx6wEI"
   },
   "outputs": [
    {
     "data": {
      "text/plain": [
       "(tensor([[ 73.,  67.,  43.],\n",
       "         [ 91.,  88.,  64.],\n",
       "         [102.,  43.,  37.],\n",
       "         [ 69.,  96.,  70.],\n",
       "         [102.,  43.,  37.]]),\n",
       " tensor([[0.],\n",
       "         [1.],\n",
       "         [0.],\n",
       "         [1.],\n",
       "         [0.]]))"
      ]
     },
     "execution_count": 19,
     "metadata": {},
     "output_type": "execute_result"
    }
   ],
   "source": [
    "train_dl = DataLoader(train_ds, batch_size=5, shuffle=True)\n",
    "xb, yb = next(iter(train_dl))\n",
    "xb, yb"
   ]
  },
  {
   "cell_type": "markdown",
   "metadata": {
    "id": "ymcQOo_hum6I"
   },
   "source": [
    "9. Створіть клас `LogReg` для логістичної регресії, наслідуючи модуль `torch.nn.Module` за прикладом в лекції (в частині про FeedForward мережі).\n",
    "\n",
    "  У нас модель складається з лінійної комбінації вхідних значень і застосування фукнції сигмоїда. Тож, нейромережа буде складатись з лінійного шару `nn.Linear` і використання активації `nn.Sigmid`. У створеному класі мають бути реалізовані методи `__init__` з ініціалізацією шарів і метод `forward` для виконання прямого проходу моделі через лінійний шар і функцію активації.\n",
    "\n",
    "  Створіть екземпляр класу `LogReg` в змінній `model`."
   ]
  },
  {
   "cell_type": "code",
   "execution_count": 20,
   "metadata": {
    "ExecuteTime": {
     "end_time": "2025-11-01T15:34:33.348407Z",
     "start_time": "2025-11-01T15:34:33.343612Z"
    },
    "id": "EyAwhTBW6xxz"
   },
   "outputs": [],
   "source": [
    "class LogReg(nn.Module):\n",
    "    def __init__(self):\n",
    "        super().__init__()\n",
    "        self.linear = nn.Linear(3, 1)  \n",
    "        self.sigmoid = nn.Sigmoid()\n",
    "\n",
    "    def forward(self, xb):\n",
    "        out = self.linear(xb)\n",
    "        out = self.sigmoid(out)\n",
    "        return out"
   ]
  },
  {
   "cell_type": "code",
   "execution_count": 21,
   "metadata": {
    "ExecuteTime": {
     "end_time": "2025-11-01T15:34:35.009982Z",
     "start_time": "2025-11-01T15:34:35.005261Z"
    },
    "id": "EyAwhTBW6xxz"
   },
   "outputs": [
    {
     "name": "stdout",
     "output_type": "stream",
     "text": [
      "LogReg(\n",
      "  (linear): Linear(in_features=3, out_features=1, bias=True)\n",
      "  (sigmoid): Sigmoid()\n",
      ")\n"
     ]
    }
   ],
   "source": [
    "model = LogReg()\n",
    "print(model)"
   ]
  },
  {
   "cell_type": "markdown",
   "metadata": {
    "id": "RflV7xeVyoJy"
   },
   "source": [
    "10. Задайте оптимізатор `Stockastic Gradient Descent` в змінній `opt` для навчання моделі логістичної регресії. А також визначіть в змінній `loss` функцію втрат `binary_cross_entropy` з модуля `torch.nn.functional` для обчислення втрат моделі. Обчисліть втрати для поточних передбачень і міток, а потім виведіть їх. Зробіть висновок, чи моделі вдалось навчитись?"
   ]
  },
  {
   "cell_type": "code",
   "execution_count": 22,
   "metadata": {
    "ExecuteTime": {
     "end_time": "2025-11-01T15:34:37.673354Z",
     "start_time": "2025-11-01T15:34:37.044520Z"
    },
    "id": "3QCATPU_6yfa"
   },
   "outputs": [],
   "source": [
    "opt = torch.optim.SGD(model.parameters(), 1e-5)\n",
    "loss_fn = F.binary_cross_entropy"
   ]
  },
  {
   "cell_type": "code",
   "execution_count": 23,
   "metadata": {
    "ExecuteTime": {
     "end_time": "2025-11-01T15:34:38.977492Z",
     "start_time": "2025-11-01T15:34:38.969845Z"
    },
    "scrolled": true
   },
   "outputs": [
    {
     "name": "stdout",
     "output_type": "stream",
     "text": [
      "Передбачення моделі:\n",
      " tensor([[1.7603e-01],\n",
      "        [3.3674e-02],\n",
      "        [9.9996e-01],\n",
      "        [4.3257e-05],\n",
      "        [9.9996e-01]])\n",
      "\n",
      "Мітки:\n",
      " tensor([[0.],\n",
      "        [1.],\n",
      "        [0.],\n",
      "        [1.],\n",
      "        [0.]])\n",
      "\n",
      "Початковий loss: 6.816744327545166\n"
     ]
    }
   ],
   "source": [
    "preds = model(xb)\n",
    "loss = loss_fn(preds, yb)\n",
    "\n",
    "print(\"Передбачення моделі:\\n\", preds.detach())\n",
    "print(\"\\nМітки:\\n\", yb)\n",
    "print(\"\\nПочатковий loss:\", loss.item())"
   ]
  },
  {
   "cell_type": "markdown",
   "metadata": {},
   "source": [
    "**На цьому етапі точність моделі ще дуже низька, а loss є великим. Модель потрібно навчити, щоб втрати зменшилися і передбачення стали точнішими.**"
   ]
  },
  {
   "cell_type": "markdown",
   "metadata": {
    "id": "ch-WrYnKzMzq"
   },
   "source": [
    "11. Візьміть з лекції функцію для тренування моделі з відстеженням значень втрат і навчіть щойно визначену модель на 1000 епохах. Виведіть після цього графік зміни loss, фінальні передбачення і значення таргетів."
   ]
  },
  {
   "cell_type": "code",
   "execution_count": 24,
   "metadata": {
    "ExecuteTime": {
     "end_time": "2025-11-01T15:35:11.792014Z",
     "start_time": "2025-11-01T15:35:11.774068Z"
    },
    "id": "cEHQH9qE626k"
   },
   "outputs": [],
   "source": [
    "def fit_return_loss(num_epochs, model, loss_fn, opt, train_dl):\n",
    "    losses = []\n",
    "    for epoch in range(num_epochs):\n",
    "        total_loss = 0  \n",
    "\n",
    "        for xb, yb in train_dl:\n",
    "            preds = model(xb)\n",
    "            loss = loss_fn(preds, yb)\n",
    "            loss.backward()\n",
    "            opt.step()\n",
    "            opt.zero_grad()\n",
    "            total_loss += loss.item()\n",
    "            \n",
    "        avg_loss = total_loss / len(train_dl)\n",
    "        losses.append(avg_loss)\n",
    "\n",
    "        if (epoch + 1) % 10 == 0:\n",
    "            print(f\"Епоха [{epoch+1}/{num_epochs}], Loss: {avg_loss:.4f}\")\n",
    "\n",
    "    return losses"
   ]
  },
  {
   "cell_type": "code",
   "execution_count": 25,
   "metadata": {
    "ExecuteTime": {
     "end_time": "2025-11-01T15:35:14.168863Z",
     "start_time": "2025-11-01T15:35:13.760839Z"
    }
   },
   "outputs": [
    {
     "name": "stdout",
     "output_type": "stream",
     "text": [
      "Епоха [10/1000], Loss: 6.6400\n",
      "Епоха [20/1000], Loss: 6.0483\n",
      "Епоха [30/1000], Loss: 5.7263\n",
      "Епоха [40/1000], Loss: 5.4710\n",
      "Епоха [50/1000], Loss: 5.2474\n",
      "Епоха [60/1000], Loss: 5.0653\n",
      "Епоха [70/1000], Loss: 4.8974\n",
      "Епоха [80/1000], Loss: 4.7861\n",
      "Епоха [90/1000], Loss: 4.6903\n",
      "Епоха [100/1000], Loss: 4.5353\n",
      "Епоха [110/1000], Loss: 4.4753\n",
      "Епоха [120/1000], Loss: 4.3686\n",
      "Епоха [130/1000], Loss: 4.2792\n",
      "Епоха [140/1000], Loss: 4.2018\n",
      "Епоха [150/1000], Loss: 4.1132\n",
      "Епоха [160/1000], Loss: 4.0389\n",
      "Епоха [170/1000], Loss: 3.9423\n",
      "Епоха [180/1000], Loss: 3.8701\n",
      "Епоха [190/1000], Loss: 3.7756\n",
      "Епоха [200/1000], Loss: 3.6974\n",
      "Епоха [210/1000], Loss: 3.6101\n",
      "Епоха [220/1000], Loss: 3.5297\n",
      "Епоха [230/1000], Loss: 3.4427\n",
      "Епоха [240/1000], Loss: 3.3760\n",
      "Епоха [250/1000], Loss: 3.2822\n",
      "Епоха [260/1000], Loss: 3.1985\n",
      "Епоха [270/1000], Loss: 3.1111\n",
      "Епоха [280/1000], Loss: 3.0308\n",
      "Епоха [290/1000], Loss: 2.9483\n",
      "Епоха [300/1000], Loss: 2.8748\n",
      "Епоха [310/1000], Loss: 2.7879\n",
      "Епоха [320/1000], Loss: 2.7048\n",
      "Епоха [330/1000], Loss: 2.6292\n",
      "Епоха [340/1000], Loss: 2.5456\n",
      "Епоха [350/1000], Loss: 2.4710\n",
      "Епоха [360/1000], Loss: 2.4122\n",
      "Епоха [370/1000], Loss: 2.3102\n",
      "Епоха [380/1000], Loss: 2.2363\n",
      "Епоха [390/1000], Loss: 2.1587\n",
      "Епоха [400/1000], Loss: 2.0854\n",
      "Епоха [410/1000], Loss: 2.0062\n",
      "Епоха [420/1000], Loss: 1.9342\n",
      "Епоха [430/1000], Loss: 1.8632\n",
      "Епоха [440/1000], Loss: 1.7922\n",
      "Епоха [450/1000], Loss: 1.7232\n",
      "Епоха [460/1000], Loss: 1.6485\n",
      "Епоха [470/1000], Loss: 1.5853\n",
      "Епоха [480/1000], Loss: 1.5150\n",
      "Епоха [490/1000], Loss: 1.4520\n",
      "Епоха [500/1000], Loss: 1.3831\n",
      "Епоха [510/1000], Loss: 1.3171\n",
      "Епоха [520/1000], Loss: 1.2595\n",
      "Епоха [530/1000], Loss: 1.2084\n",
      "Епоха [540/1000], Loss: 1.1388\n",
      "Епоха [550/1000], Loss: 1.0851\n",
      "Епоха [560/1000], Loss: 1.0415\n",
      "Епоха [570/1000], Loss: 0.9843\n",
      "Епоха [580/1000], Loss: 0.9393\n",
      "Епоха [590/1000], Loss: 0.8865\n",
      "Епоха [600/1000], Loss: 0.8436\n",
      "Епоха [610/1000], Loss: 0.8030\n",
      "Епоха [620/1000], Loss: 0.7632\n",
      "Епоха [630/1000], Loss: 0.7308\n",
      "Епоха [640/1000], Loss: 0.7033\n",
      "Епоха [650/1000], Loss: 0.6679\n",
      "Епоха [660/1000], Loss: 0.6437\n",
      "Епоха [670/1000], Loss: 0.6134\n",
      "Епоха [680/1000], Loss: 0.5918\n",
      "Епоха [690/1000], Loss: 0.5703\n",
      "Епоха [700/1000], Loss: 0.5492\n",
      "Епоха [710/1000], Loss: 0.5325\n",
      "Епоха [720/1000], Loss: 0.5149\n",
      "Епоха [730/1000], Loss: 0.5012\n",
      "Епоха [740/1000], Loss: 0.4870\n",
      "Епоха [750/1000], Loss: 0.4743\n",
      "Епоха [760/1000], Loss: 0.4654\n",
      "Епоха [770/1000], Loss: 0.4552\n",
      "Епоха [780/1000], Loss: 0.4421\n",
      "Епоха [790/1000], Loss: 0.4315\n",
      "Епоха [800/1000], Loss: 0.4263\n",
      "Епоха [810/1000], Loss: 0.4149\n",
      "Епоха [820/1000], Loss: 0.4085\n",
      "Епоха [830/1000], Loss: 0.4013\n",
      "Епоха [840/1000], Loss: 0.3940\n",
      "Епоха [850/1000], Loss: 0.3883\n",
      "Епоха [860/1000], Loss: 0.3829\n",
      "Епоха [870/1000], Loss: 0.3770\n",
      "Епоха [880/1000], Loss: 0.3719\n",
      "Епоха [890/1000], Loss: 0.3672\n",
      "Епоха [900/1000], Loss: 0.3627\n",
      "Епоха [910/1000], Loss: 0.3587\n",
      "Епоха [920/1000], Loss: 0.3549\n",
      "Епоха [930/1000], Loss: 0.3522\n",
      "Епоха [940/1000], Loss: 0.3474\n",
      "Епоха [950/1000], Loss: 0.3445\n",
      "Епоха [960/1000], Loss: 0.3411\n",
      "Епоха [970/1000], Loss: 0.3395\n",
      "Епоха [980/1000], Loss: 0.3350\n",
      "Епоха [990/1000], Loss: 0.3319\n",
      "Епоха [1000/1000], Loss: 0.3297\n"
     ]
    }
   ],
   "source": [
    "losses = fit_return_loss(1000, model, loss_fn, opt, train_dl)"
   ]
  },
  {
   "cell_type": "code",
   "execution_count": 26,
   "metadata": {
    "ExecuteTime": {
     "end_time": "2025-11-01T15:35:19.493920Z",
     "start_time": "2025-11-01T15:35:19.386669Z"
    }
   },
   "outputs": [
    {
     "data": {
      "image/png": "[encoded data removed]",
      "text/plain": [
       "<Figure size 640x480 with 1 Axes>"
      ]
     },
     "metadata": {},
     "output_type": "display_data"
    },
    {
     "name": "stdout",
     "output_type": "stream",
     "text": [
      "Фінальні передбачення:\n",
      " tensor([[0.5729],\n",
      "        [0.6791],\n",
      "        [0.9026],\n",
      "        [0.1569],\n",
      "        [0.8761],\n",
      "        [0.5729],\n",
      "        [0.6791],\n",
      "        [0.9026],\n",
      "        [0.1569],\n",
      "        [0.8761],\n",
      "        [0.5729],\n",
      "        [0.6791],\n",
      "        [0.9026],\n",
      "        [0.1569],\n",
      "        [0.8761]])\n",
      "Справжні мітки:\n",
      " tensor([[0.],\n",
      "        [1.],\n",
      "        [1.],\n",
      "        [0.],\n",
      "        [1.],\n",
      "        [0.],\n",
      "        [1.],\n",
      "        [1.],\n",
      "        [0.],\n",
      "        [1.],\n",
      "        [0.],\n",
      "        [1.],\n",
      "        [1.],\n",
      "        [0.],\n",
      "        [1.]])\n"
     ]
    }
   ],
   "source": [
    "plt.plot(losses)\n",
    "plt.xlabel('Epoch')\n",
    "plt.ylabel('Loss')\n",
    "plt.show()\n",
    "\n",
    "final_preds = model(inputs)\n",
    "print(\"Фінальні передбачення:\\n\", final_preds.detach())\n",
    "print(\"Справжні мітки:\\n\", targets)"
   ]
  },
  {
   "cell_type": "markdown",
   "metadata": {},
   "source": [
    "**Під час навчання логістичної регресії loss поступово зменшився до ~0.33. Передбачення доволі добре корелюють із цільовими мітками, хоча результати ніби можна ще покращити.**"
   ]
  }
 ],
 "metadata": {
  "colab": {
   "provenance": []
  },
  "kernelspec": {
   "display_name": "Python 3 (ipykernel)",
   "language": "python",
   "name": "python3"
  },
  "language_info": {
   "codemirror_mode": {
    "name": "ipython",
    "version": 3
   },
   "file_extension": ".py",
   "mimetype": "text/x-python",
   "name": "python",
   "nbconvert_exporter": "python",
   "pygments_lexer": "ipython3",
   "version": "3.10.12"
  },
  "toc": {
   "base_numbering": 1,
   "nav_menu": {},
   "number_sections": true,
   "sideBar": true,
   "skip_h1_title": false,
   "title_cell": "Table of Contents",
   "title_sidebar": "Contents",
   "toc_cell": false,
   "toc_position": {},
   "toc_section_display": true,
   "toc_window_display": false
  },
  "varInspector": {
   "cols": {
    "lenName": 16,
    "lenType": 16,
    "lenVar": 40
   },
   "kernels_config": {
    "python": {
     "delete_cmd_postfix": "",
     "delete_cmd_prefix": "del ",
     "library": "var_list.py",
     "varRefreshCmd": "print(var_dic_list())"
    },
    "r": {
     "delete_cmd_postfix": ") ",
     "delete_cmd_prefix": "rm(",
     "library": "var_list.r",
     "varRefreshCmd": "cat(var_dic_list()) "
    }
   },
   "types_to_exclude": [
    "module",
    "function",
    "builtin_function_or_method",
    "instance",
    "_Feature"
   ],
   "window_display": false
  }
 },
 "nbformat": 4,
 "nbformat_minor": 1
}
