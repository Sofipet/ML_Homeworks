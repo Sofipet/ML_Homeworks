{
 "cells": [
  {
   "cell_type": "markdown",
   "metadata": {
    "id": "QVNVsLwJvV9S"
   },
   "source": [
    "Давайте подивимося, як LSTM можна використовувати для побудови нейронної мережі прогнозування часових.\n",
    "\n",
    "Будемо працювати з задачею прогнозування кількості пасажирів міжнародних авіаліній. З цим набором даних ми вже працювали в лекції \"Time Series Analysis\" і ви зможете порівняти результати :)\n",
    "\n",
    "Задача полягає в тому, щоб за заданими роком і місяцем передбачити кількість пасажирів міжнародних авіаліній в одиницях виміру 1,000. Дані охоплюють період з січня 1949 року по грудень 1960 року, тобто 12 років, зі 144 спостереженнями.\n",
    "\n",
    "Це регресійна задача. Тобто, знаючи кількість пасажирів (в тисячах) за останні місяці, можна передбачити, якою буде кількість пасажирів у наступному місяці. Набір даних має лише одну характеристику: \"Кількість пасажирів\" - `Passengers`.\n",
    "\n",
    "Далі вже наведений код для читання даних, але нам їх ще треба буде трошки обробити."
   ]
  },
  {
   "cell_type": "code",
   "execution_count": 2,
   "metadata": {
    "ExecuteTime": {
     "end_time": "2025-11-01T17:34:56.912074Z",
     "start_time": "2025-11-01T17:34:55.817542Z"
    },
    "colab": {
     "base_uri": "https://localhost:8080/",
     "height": 238
    },
    "id": "hw3dGYsyluYm",
    "outputId": "a3a3b30e-a1a9-4d28-dd1a-3e5b5e242206"
   },
   "outputs": [],
   "source": [
    "import torch\n",
    "import torch.nn as nn\n",
    "from torch.utils.data import DataLoader, TensorDataset\n",
    "import pandas as pd\n",
    "import numpy as np\n",
    "import matplotlib.pyplot as plt"
   ]
  },
  {
   "cell_type": "code",
   "execution_count": 1,
   "metadata": {
    "ExecuteTime": {
     "end_time": "2025-11-01T17:26:31.144657Z",
     "start_time": "2025-11-01T17:26:29.963673Z"
    },
    "colab": {
     "base_uri": "https://localhost:8080/",
     "height": 238
    },
    "id": "hw3dGYsyluYm",
    "outputId": "a3a3b30e-a1a9-4d28-dd1a-3e5b5e242206"
   },
   "outputs": [
    {
     "data": {
      "text/html": [
       "<div>\n",
       "<style scoped>\n",
       "    .dataframe tbody tr th:only-of-type {\n",
       "        vertical-align: middle;\n",
       "    }\n",
       "\n",
       "    .dataframe tbody tr th {\n",
       "        vertical-align: top;\n",
       "    }\n",
       "\n",
       "    .dataframe thead th {\n",
       "        text-align: right;\n",
       "    }\n",
       "</style>\n",
       "<table border=\"1\" class=\"dataframe\">\n",
       "  <thead>\n",
       "    <tr style=\"text-align: right;\">\n",
       "      <th></th>\n",
       "      <th>Passengers</th>\n",
       "    </tr>\n",
       "    <tr>\n",
       "      <th>Month</th>\n",
       "      <th></th>\n",
       "    </tr>\n",
       "  </thead>\n",
       "  <tbody>\n",
       "    <tr>\n",
       "      <th>1949-01</th>\n",
       "      <td>112</td>\n",
       "    </tr>\n",
       "    <tr>\n",
       "      <th>1949-02</th>\n",
       "      <td>118</td>\n",
       "    </tr>\n",
       "    <tr>\n",
       "      <th>1949-03</th>\n",
       "      <td>132</td>\n",
       "    </tr>\n",
       "    <tr>\n",
       "      <th>1949-04</th>\n",
       "      <td>129</td>\n",
       "    </tr>\n",
       "    <tr>\n",
       "      <th>1949-05</th>\n",
       "      <td>121</td>\n",
       "    </tr>\n",
       "  </tbody>\n",
       "</table>\n",
       "</div>"
      ],
      "text/plain": [
       "         Passengers\n",
       "Month              \n",
       "1949-01         112\n",
       "1949-02         118\n",
       "1949-03         132\n",
       "1949-04         129\n",
       "1949-05         121"
      ]
     },
     "metadata": {},
     "output_type": "display_data"
    }
   ],
   "source": [
    "# Завантаження даних\n",
    "url = \"https://raw.githubusercontent.com/jbrownlee/Datasets/master/airline-passengers.csv\"\n",
    "df = pd.read_csv(url)\n",
    "df.set_index('Month', inplace=True)\n",
    "display(df.head())"
   ]
  },
  {
   "cell_type": "markdown",
   "metadata": {
    "id": "BCcNvF28wSH3"
   },
   "source": [
    "**Завдання 1.** Створіть змінну типу `numpy.ndarray`, яка містить значення кількості пасажирів в форматі `float32`. Такий формат даних нам треба для тренування нейромережі."
   ]
  },
  {
   "cell_type": "code",
   "execution_count": 4,
   "metadata": {
    "ExecuteTime": {
     "end_time": "2025-11-01T17:35:42.391234Z",
     "start_time": "2025-11-01T17:35:42.366950Z"
    },
    "id": "7PcJkPAoBOH5"
   },
   "outputs": [
    {
     "data": {
      "text/plain": [
       "array([112., 118., 132., 129., 121.], dtype=float32)"
      ]
     },
     "execution_count": 4,
     "metadata": {},
     "output_type": "execute_result"
    }
   ],
   "source": [
    "timeseries = df['Passengers'].values.astype('float32')\n",
    "timeseries[:5]"
   ]
  },
  {
   "cell_type": "markdown",
   "metadata": {
    "id": "Vms2Pxp1xCrB"
   },
   "source": [
    "Очікуваний результат:\n",
    "```array([112., 118., 132., 129., 121.], dtype=float32)```"
   ]
  },
  {
   "cell_type": "markdown",
   "metadata": {
    "id": "vESTxq-OxLRK"
   },
   "source": [
    "**Завдання 2**. Розбийте дані на тренувальні і валідаційні у співвідношенні 67% йде у тренування, 33 - у валідацію. Памʼятаємо, що ми працюємо з tim series, відповідно, навчаємось на давніших, валідуємось - на новіших."
   ]
  },
  {
   "cell_type": "code",
   "execution_count": 5,
   "metadata": {
    "ExecuteTime": {
     "end_time": "2025-11-01T17:37:26.937267Z",
     "start_time": "2025-11-01T17:37:26.920939Z"
    },
    "id": "USpGte_tBPR1"
   },
   "outputs": [
    {
     "name": "stdout",
     "output_type": "stream",
     "text": [
      "Train size: 96\n",
      "Test size: 48\n"
     ]
    }
   ],
   "source": [
    "train_size = int(len(timeseries) * 0.67)\n",
    "test_size = len(timeseries) - train_size\n",
    "\n",
    "train = timeseries[:train_size]\n",
    "test = timeseries[train_size:]\n",
    "\n",
    "print(\"Train size:\", len(train))\n",
    "print(\"Test size:\", len(test))"
   ]
  },
  {
   "cell_type": "markdown",
   "metadata": {
    "id": "YB-e-vEDx3bn"
   },
   "source": [
    "**Завдання 3**.\n",
    "\n",
    "Реалізуйте функцію `create_dataset`, яка перетворить одномірний часовий ряд (набір даних) у формат, придатний для тренування нейромережі.\n",
    "\n",
    "Функція повинна приймати два аргументи:\n",
    "- `dataset` — numpy-масив часового ряду,\n",
    "- `lookback` — кількість попередніх кроків, які використовуватимуться для передбачення.\n",
    "\n",
    "Функція повинна повернути два **тензори** PyTorch:\n",
    "- `X` — набір ознак (вікно попередніх значень),\n",
    "- `y` — цільові значення (наступні після вікна кроки).\n",
    "\n",
    "Дані ми будемо подавати моделі в наступному форматі:\n",
    "`\n",
    "tensor([[112.],\n",
    "        [118.],\n",
    "        [132.],\n",
    "        [129.],\n",
    "        [121.]])\n",
    "`\n",
    "Відповідно першою розмірністю буде йти розмір вхідного батча, а другою - розмір вхіднизх даних і в нас це 1, бо лише одне значення на вході щоразу.\n",
    "\n",
    "Після виконання завдання запустіть код нижче. Ми будемо передбачати на основі кількості пасажирів в попередній день кількість пасажирів в наступний, тому `lookback == 1`."
   ]
  },
  {
   "cell_type": "code",
   "execution_count": 8,
   "metadata": {
    "ExecuteTime": {
     "end_time": "2025-11-01T17:40:10.201276Z",
     "start_time": "2025-11-01T17:40:10.188663Z"
    },
    "id": "s5UXOiAHBVwe"
   },
   "outputs": [],
   "source": [
    "def create_dataset(dataset, lookback=1):\n",
    "    X, y = [], []\n",
    "    for i in range(len(dataset) - lookback):\n",
    "        X.append(dataset[i:(i + lookback)])\n",
    "        y.append(dataset[i + lookback])\n",
    "    X = np.array(X)\n",
    "    y = np.array(y)\n",
    "\n",
    "    return torch.tensor(X).float(), torch.tensor(y).float().view(-1, 1)"
   ]
  },
  {
   "cell_type": "code",
   "execution_count": 9,
   "metadata": {
    "ExecuteTime": {
     "end_time": "2025-11-01T17:40:11.524837Z",
     "start_time": "2025-11-01T17:40:11.511422Z"
    },
    "colab": {
     "base_uri": "https://localhost:8080/"
    },
    "id": "dA8FwOfwuPyl",
    "outputId": "b4bd6a9a-f611-4f81-eceb-7c9e17c8dab6"
   },
   "outputs": [
    {
     "name": "stdout",
     "output_type": "stream",
     "text": [
      "torch.Size([95, 1]) torch.Size([95, 1])\n",
      "torch.Size([47, 1]) torch.Size([47, 1])\n"
     ]
    }
   ],
   "source": [
    "lookback = 1\n",
    "X_train, y_train = create_dataset(train, lookback=lookback)\n",
    "X_test, y_test = create_dataset(test, lookback=lookback)\n",
    "print(X_train.shape, y_train.shape)\n",
    "print(X_test.shape, y_test.shape)"
   ]
  },
  {
   "cell_type": "markdown",
   "metadata": {
    "id": "dvEA-D-SzcWf"
   },
   "source": [
    "Очікуваний результат:\n",
    "```\n",
    "torch.Size([95, 1]) torch.Size([95, 1])\n",
    "torch.Size([47, 1]) torch.Size([47, 1])\n",
    "```"
   ]
  },
  {
   "cell_type": "markdown",
   "metadata": {
    "id": "eeiFJ-jDznj5"
   },
   "source": [
    "**Завдання 4**.\n",
    "\n",
    "Зверніть увагу на розмірності в попередньому завданні. Ми\n",
    "З допомогою модуля `torch.nn` опишіть клас `AirModel`, який є нейронною мережею для прогнозування кількості пасажирів за допомогою LSTM.\n",
    "\n",
    "1. **Конструктор класу** повинен приймати параметри `hidden_size`, `num_layers` та ініціювати шари:\n",
    "   - LSTM-шар з наступними параметрами:\n",
    "     - `input_size` — кожна точка часового ряду є окремим входом,,\n",
    "     - `hidden_size` — заданий в конструкторі класу мережі,\n",
    "     - `num_layers=1` — кількість шарів LSTM, задана в конструкторі мережі,\n",
    "     - `batch_first=True` — визначає, що першим виміром є розмір батчу.\n",
    "   - Лінійний шар (`nn.Linear`) для перетворення виходу LSTM на прогноз однієї точки.\n",
    "\n",
    "2. **Метод forward** повинен виконувати наступні дії:\n",
    "   - Передати вхідний тензор через LSTM-шар і отримати виходи (ігноруючи приховані стани).\n",
    "   - Пропустити вихід LSTM через лінійний шар для отримання остаточного прогнозу.\n",
    "\n",
    "Створіть об'єкт класу `AirModel` зі значеннями параметрів `hidden_size=50`, `num_layers=1` і протестуйте роботу моделі на вхідному тензорі `tensor([[112.]])`. На цьому етапі ми маємо переконатись, що модель здатна генерувати передбачення з рандомно ініційованими вагами."
   ]
  },
  {
   "cell_type": "code",
   "execution_count": 10,
   "metadata": {
    "ExecuteTime": {
     "end_time": "2025-11-01T17:45:09.498059Z",
     "start_time": "2025-11-01T17:45:09.445445Z"
    },
    "id": "dcafrsmrDHsz"
   },
   "outputs": [],
   "source": [
    "class AirModel(nn.Module):\n",
    "    def __init__(self, hidden_size, num_layers=1):\n",
    "        super().__init__()\n",
    "        self.lstm = nn.LSTM(input_size=1, hidden_size=hidden_size, num_layers=num_layers, batch_first=True)\n",
    "        self.linear = nn.Linear(hidden_size, 1)\n",
    "\n",
    "    def forward(self, x):\n",
    "        out, _ = self.lstm(x)\n",
    "        out = self.linear(out)\n",
    "        return out"
   ]
  },
  {
   "cell_type": "code",
   "execution_count": 11,
   "metadata": {
    "ExecuteTime": {
     "end_time": "2025-11-01T17:45:11.280501Z",
     "start_time": "2025-11-01T17:45:11.198046Z"
    },
    "id": "dcafrsmrDHsz"
   },
   "outputs": [
    {
     "name": "stdout",
     "output_type": "stream",
     "text": [
      "Тестовий вихід: tensor([[[-0.2753]]], grad_fn=<ViewBackward0>)\n"
     ]
    }
   ],
   "source": [
    "model = AirModel(hidden_size=50, num_layers=1)\n",
    "test_input = torch.tensor([[[112.]]])  \n",
    "test_output = model(test_input)\n",
    "print(\"Тестовий вихід:\", test_output)"
   ]
  },
  {
   "cell_type": "markdown",
   "metadata": {
    "id": "-R6zv9nu2tWB"
   },
   "source": [
    "**Завдання 5**.\n",
    "\n",
    "Створіть об'єкт DataLoader для завантаження даних, використовуючи тренувальні вибірки `X_train` та `y_train`. Ваш DataLoader повинен виконувати наступні вимоги:\n",
    "\n",
    "1. Використовувати клас `TensorDataset`, щоб об'єднати тензори ознак `X_train` і цільових значень `y_train`.\n",
    "2. Дані повинні завантажуватися невеликими батчами розміром 8 за допомогою параметра `batch_size`.\n",
    "3. Використовувати параметр `shuffle=True`, щоб дані перемішувалися перед кожною епохою тренування.\n"
   ]
  },
  {
   "cell_type": "code",
   "execution_count": 12,
   "metadata": {
    "ExecuteTime": {
     "end_time": "2025-11-01T17:48:15.635607Z",
     "start_time": "2025-11-01T17:48:15.618331Z"
    },
    "id": "WKdkptY7DMAc"
   },
   "outputs": [],
   "source": [
    "train_ds = TensorDataset(X_train.unsqueeze(-1), y_train.unsqueeze(-1))\n",
    "train_dl = DataLoader(train_ds, batch_size=8, shuffle=True)"
   ]
  },
  {
   "cell_type": "markdown",
   "metadata": {
    "id": "6ZaGh7IF2nfT"
   },
   "source": [
    "**Завдання 6**.\n",
    "\n",
    "1. Реалізуйте навчання нейронної мережі `AirModel` для прогнозування часових рядів, використовуючи Adam-оптимізатор та функцію втрат MSE (середньоквадратичну похибку).\n",
    "2. Створіть цикл тренування для 2000 епох, у якому на кожній епосі:\n",
    "   - Виконуйте крок тренування моделі (прямий прохід, обчислення похибки, зворотний прохід і оновлення ваг).\n",
    "   - Підраховуйте середню похибку на кожному батчі даних і зберігайте її у списку `losses`.\n",
    "3. Раз на 100 епох проводьте валідацію моделі:\n",
    "   - Перевіряйте модель на тренувальних та тестових даних без оновлення ваг.\n",
    "   - Обчислюйте корінь середньоквадратичної похибки (RMSE) для тренувальної та тестової вибірок і виводьте результати на екран.\n",
    "   \n",
    "**Примітка:**\n",
    "- Використовуйте вже створений `DataLoader` для отримання батчів даних.\n",
    "- Валідацію виконуйте в режимі `eval()`, вимикаючи обчислення градієнтів з `torch.no_grad()`.\n",
    "\n",
    "**Приклад виходу:**\n",
    "```\n",
    "Epoch 0: train RMSE 12.3456, test RMSE 15.6789\n",
    "Epoch 100: train RMSE 9.8765, test RMSE 12.3456\n",
    "...\n",
    "```"
   ]
  },
  {
   "cell_type": "code",
   "execution_count": 19,
   "metadata": {
    "ExecuteTime": {
     "end_time": "2025-11-01T18:08:31.717428Z",
     "start_time": "2025-11-01T18:08:21.925852Z"
    },
    "id": "pEVnWusrDNTt"
   },
   "outputs": [
    {
     "name": "stdout",
     "output_type": "stream",
     "text": [
      "Epoch 100: train RMSE 75.5683, test RMSE 239.0491\n",
      "Epoch 200: train RMSE 71.5967, test RMSE 222.5851\n",
      "Epoch 300: train RMSE 71.1502, test RMSE 215.4743\n",
      "Epoch 400: train RMSE 71.1494, test RMSE 215.2895\n",
      "Epoch 500: train RMSE 71.1492, test RMSE 215.2228\n",
      "Epoch 600: train RMSE 71.1498, test RMSE 215.3944\n",
      "Epoch 700: train RMSE 71.1497, test RMSE 215.3765\n",
      "Epoch 800: train RMSE 71.1494, test RMSE 214.9194\n",
      "Epoch 900: train RMSE 71.3220, test RMSE 219.7452\n",
      "Epoch 1000: train RMSE 71.1491, test RMSE 215.1078\n",
      "Epoch 1100: train RMSE 71.1492, test RMSE 214.9983\n",
      "Epoch 1200: train RMSE 71.1494, test RMSE 214.8988\n",
      "Epoch 1300: train RMSE 71.1496, test RMSE 214.8656\n",
      "Epoch 1400: train RMSE 71.1492, test RMSE 214.9869\n",
      "Epoch 1500: train RMSE 71.1491, test RMSE 215.0949\n",
      "Epoch 1600: train RMSE 71.1492, test RMSE 214.9893\n",
      "Epoch 1700: train RMSE 71.1493, test RMSE 214.9657\n",
      "Epoch 1800: train RMSE 71.1497, test RMSE 215.3704\n",
      "Epoch 1900: train RMSE 71.1492, test RMSE 215.2004\n",
      "Epoch 2000: train RMSE 71.1497, test RMSE 214.8291\n"
     ]
    }
   ],
   "source": [
    "model = AirModel(hidden_size=50, num_layers=1)\n",
    "optimizer = torch.optim.Adam(model.parameters(), lr=0.01)\n",
    "loss_fn = nn.MSELoss()\n",
    "\n",
    "losses = []\n",
    "\n",
    "for epoch in range(2000):\n",
    "    model.train()\n",
    "    total_loss = 0\n",
    "\n",
    "    for xb, yb in train_dl:\n",
    "        yb = yb.squeeze(-1)\n",
    "        output = model(xb)\n",
    "        loss = loss_fn(output[:, -1], yb)\n",
    "        loss.backward()\n",
    "        optimizer.step()\n",
    "        optimizer.zero_grad()\n",
    "        total_loss += loss.item()\n",
    "\n",
    "    losses.append(total_loss / len(train_dl))\n",
    "\n",
    "    # Валідація раз на 100 епох\n",
    "    if (epoch + 1) % 100 == 0:\n",
    "        model.eval()\n",
    "        with torch.no_grad():\n",
    "            train_pred = model(X_train.unsqueeze(-1))[:, -1]\n",
    "            test_pred = model(X_test.unsqueeze(-1))[:, -1]\n",
    "\n",
    "            train_rmse = torch.sqrt(loss_fn(train_pred, y_train))\n",
    "            test_rmse = torch.sqrt(loss_fn(test_pred, y_test))\n",
    "\n",
    "        print(f\"Epoch {epoch+1}: train RMSE {train_rmse:.4f}, test RMSE {test_rmse:.4f}\")"
   ]
  },
  {
   "cell_type": "markdown",
   "metadata": {
    "id": "m0sIo4kp5X_s"
   },
   "source": [
    "**Завдання 7.** Побудуйте графік лосів. Зробіть висновок з графіку, чи навчилась модель?"
   ]
  },
  {
   "cell_type": "code",
   "execution_count": 20,
   "metadata": {
    "ExecuteTime": {
     "end_time": "2025-11-01T18:08:36.175646Z",
     "start_time": "2025-11-01T18:08:36.065462Z"
    },
    "id": "AS2USLRq76up"
   },
   "outputs": [
    {
     "data": {
      "image/png": "[encoded data removed]",
      "text/plain": [
       "<Figure size 600x400 with 1 Axes>"
      ]
     },
     "metadata": {},
     "output_type": "display_data"
    }
   ],
   "source": [
    "plt.figure(figsize=(6,4))\n",
    "plt.plot(losses)\n",
    "plt.title(\"Loss під час навчання\")\n",
    "plt.xlabel(\"Epoch\")\n",
    "plt.ylabel(\"Loss\")\n",
    "plt.grid(True)\n",
    "plt.show()"
   ]
  },
  {
   "cell_type": "markdown",
   "metadata": {},
   "source": [
    "**Loss стабілізувався, отже, навчання відбулося, але RMSE на тестових даних залишився високим, що свідчить про слабке узагальнення.**"
   ]
  },
  {
   "cell_type": "markdown",
   "metadata": {
    "id": "8eBoUQVB5p0h"
   },
   "source": [
    "Модель навчилась, але не факт, що точно)"
   ]
  },
  {
   "cell_type": "markdown",
   "metadata": {
    "id": "-vCiGfQw7sEK"
   },
   "source": [
    "Доволі неочікувано, що середньоквадратичне відхилення тестового набору даних буде на порядок більшим за одиниці в нашому наборі даних. Середньоквадратичне відхилення 100 означає, що прогноз і фактичне значення будуть відрізнятися в середньому на 100 (тобто, 100 000 пасажирів у цьому наборі даних).\n",
    "\n"
   ]
  },
  {
   "cell_type": "markdown",
   "metadata": {
    "id": "bgtO7NZh77vU"
   },
   "source": [
    "Щоб краще зрозуміти якість прогнозу, ви можете побудувати графік з кодом нижче (а ще нижче - описано, що відбувається в цьому коді, бо це теж корисно зрозуміти):"
   ]
  },
  {
   "cell_type": "code",
   "execution_count": 26,
   "metadata": {
    "ExecuteTime": {
     "end_time": "2025-11-01T18:27:26.407528Z",
     "start_time": "2025-11-01T18:27:26.289317Z"
    },
    "id": "ZznU2AK0vES5"
   },
   "outputs": [
    {
     "data": {
      "image/png": "[encoded data removed]",
      "text/plain": [
       "<Figure size 640x480 with 1 Axes>"
      ]
     },
     "metadata": {},
     "output_type": "display_data"
    }
   ],
   "source": [
    "def plot_predicts():\n",
    "  with torch.no_grad():\n",
    "      # Зсув прогнозів для тренувальних даних\n",
    "      train_plot = np.ones_like(timeseries) * np.nan\n",
    "      y_pred = model(X_train)\n",
    "      y_pred = y_pred[:, -1]\n",
    "      train_plot[lookback:train_size] = model(X_train)[:, -1]\n",
    "\n",
    "      # Зсув прогнозів для тестових даних\n",
    "      test_plot = np.ones_like(timeseries) * np.nan\n",
    "      test_plot[train_size+lookback:len(timeseries)] = model(X_test)[:, -1]\n",
    "\n",
    "  # Візуалізація результатів\n",
    "  plt.plot(timeseries, c='b')  # Реальні дані\n",
    "  plt.plot(train_plot, c='r')  # Прогнози на тренувальних даних\n",
    "  plt.plot(test_plot, c='g')   # Прогнози на тестових даних\n",
    "  plt.show()\n",
    "\n",
    "plot_predicts()"
   ]
  },
  {
   "cell_type": "markdown",
   "metadata": {
    "id": "ahPW3iiJDg1R"
   },
   "source": [
    "**Що відбувається в коді вище.** В цьому коді здійснюється процес прогнозування часових рядів за допомогою LSTM моделі, а також виведення графіку, який показує реальні значення, тренувальні та тестові прогнози. Ось що відбувається на кожному етапі:\n",
    "\n",
    "1. **`torch.no_grad()`**: Цей контекстний менеджер вимикає обчислення градієнтів, що означає, що під час прогнозування не будуть зберігатися проміжні обчислення для зворотного проходу (backpropagation). Це підвищує ефективність під час прогнозування і зменшує використання пам'яті.\n",
    "\n",
    "2. **Зсув прогнозів для тренувальних даних:**\n",
    "   - Створюється масив `train_plot`, який має такий самий розмір, як і часовий ряд (`timeseries`), і заповнюється значеннями NaN (`np.nan`), щоб залишити місце для реальних значень.\n",
    "   - Модель передбачає виходи для тренувальних даних `X_train`.\n",
    "   - Використовується лише останнє передбачене значення для кожного входу LSTM (`y_pred[:, -1]`).\n",
    "   - Прогнози зсуваються, починаючи з індексу `lookback` до кінця тренувальних даних (індекс `train_size`). Цей зсув потрібен, щоб зробити прогноз на основі попередніх даних і відобразити його на правильній частині графіку.\n",
    "\n",
    "3. **Зсув прогнозів для тестових даних:**\n",
    "   - Створюється масив `test_plot`, який також заповнюється NaN.\n",
    "   - Прогнози для тестових даних додаються з індексу `train_size + lookback` до кінця реальних даних, щоб відобразити, де модель починає прогнозувати тестову вибірку.\n",
    "\n",
    "4. **Побудова графіка:**\n",
    "   - `plt.plot(timeseries, c='b')`: Виводить реальні значення часового ряду (синя лінія).\n",
    "   - `plt.plot(train_plot, c='r')`: Виводить тренувальні прогнози (червона лінія).\n",
    "   - `plt.plot(test_plot, c='g')`: Виводить тестові прогнози (зелена лінія).\n",
    "\n",
    "**Чому це робиться:**\n",
    "- Зсув прогнозів для тренувальних і тестових даних дозволяє візуально зрівняти, наскільки добре модель прогнозує як на тренувальній, так і на тестовій вибірках. Зазвичай, червона лінія (тренувальні прогнози) повинна точно відповідати синій лінії (реальні дані), а зелена лінія (тестові прогнози) дає змогу побачити, наскільки модель добре працює на нових даних, яких вона раніше не бачила."
   ]
  },
  {
   "cell_type": "markdown",
   "metadata": {},
   "source": [
    "**На графіку видно, що модель не передає сезонність, адже вихід стабільний і не слідує коливанням кількості пасажирів.**"
   ]
  },
  {
   "cell_type": "markdown",
   "metadata": {
    "id": "PhoeHLus-xIr"
   },
   "source": [
    "**Завдання 8**. Навчіть модель з hidden_size=100 та порівняйте результати прогнозів з попередніми."
   ]
  },
  {
   "cell_type": "code",
   "execution_count": 22,
   "metadata": {
    "ExecuteTime": {
     "end_time": "2025-11-01T18:08:54.807925Z",
     "start_time": "2025-11-01T18:08:47.716026Z"
    },
    "id": "92032N_E_PxY"
   },
   "outputs": [
    {
     "name": "stdout",
     "output_type": "stream",
     "text": [
      "Epoch 100: train RMSE 71.1498, test RMSE 215.4439\n",
      "Epoch 200: train RMSE 71.1832, test RMSE 217.1739\n",
      "Epoch 300: train RMSE 71.1490, test RMSE 214.8775\n",
      "Epoch 400: train RMSE 71.1465, test RMSE 215.1234\n",
      "Epoch 500: train RMSE 71.1487, test RMSE 215.0073\n",
      "Epoch 600: train RMSE 71.1601, test RMSE 216.2756\n",
      "Epoch 700: train RMSE 71.1493, test RMSE 214.9498\n",
      "Epoch 800: train RMSE 71.1491, test RMSE 215.0164\n",
      "Epoch 900: train RMSE 71.1495, test RMSE 215.3338\n",
      "Epoch 1000: train RMSE 71.1495, test RMSE 215.3416\n"
     ]
    }
   ],
   "source": [
    "model_100 = AirModel(hidden_size=100, num_layers=1)\n",
    "optimizer_100 = torch.optim.Adam(model_100.parameters(), lr=0.01)\n",
    "loss_fn = nn.MSELoss()\n",
    "\n",
    "losses_100 = []\n",
    "for epoch in range(1000):\n",
    "    model_100.train()\n",
    "    total_loss = 0\n",
    "    for xb, yb in train_dl:\n",
    "        output = model_100(xb)\n",
    "        loss = loss_fn(output[:, -1], yb)\n",
    "        loss.backward()\n",
    "        optimizer_100.step()\n",
    "        optimizer_100.zero_grad()\n",
    "        total_loss += loss.item()\n",
    "    losses_100.append(total_loss / len(train_dl))\n",
    "    \n",
    "    # Валідація раз на 100 епох\n",
    "    if (epoch + 1) % 100 == 0:\n",
    "        model_100.eval()\n",
    "        with torch.no_grad():\n",
    "            train_pred = model_100(X_train.unsqueeze(-1))[:, -1]\n",
    "            test_pred = model_100(X_test.unsqueeze(-1))[:, -1]\n",
    "\n",
    "            train_rmse = torch.sqrt(loss_fn(train_pred, y_train))\n",
    "            test_rmse = torch.sqrt(loss_fn(test_pred, y_test))\n",
    "\n",
    "        print(f\"Epoch {epoch+1}: train RMSE {train_rmse:.4f}, test RMSE {test_rmse:.4f}\")"
   ]
  },
  {
   "cell_type": "code",
   "execution_count": 23,
   "metadata": {
    "ExecuteTime": {
     "end_time": "2025-11-01T18:08:57.566316Z",
     "start_time": "2025-11-01T18:08:57.455815Z"
    },
    "id": "92032N_E_PxY"
   },
   "outputs": [
    {
     "data": {
      "image/png": "[encoded data removed]",
      "text/plain": [
       "<Figure size 600x400 with 1 Axes>"
      ]
     },
     "metadata": {},
     "output_type": "display_data"
    }
   ],
   "source": [
    "plt.figure(figsize=(6,4))\n",
    "plt.plot(losses, label='hidden_size=50')\n",
    "plt.plot(losses_100, label='hidden_size=100')\n",
    "plt.title('Порівняння навчання LSTM моделей')\n",
    "plt.xlabel('Epoch')\n",
    "plt.ylabel('Loss')\n",
    "plt.legend()\n",
    "plt.grid(True)\n",
    "plt.show()"
   ]
  },
  {
   "cell_type": "markdown",
   "metadata": {},
   "source": [
    "**На третьому графіку видно, що обидві криві втрат практично збігаються. Модель із 100 нейронами не дає суттєвого поліпшення, адже втрати майже однакові.**"
   ]
  }
 ],
 "metadata": {
  "colab": {
   "provenance": []
  },
  "kernelspec": {
   "display_name": "Python 3 (ipykernel)",
   "language": "python",
   "name": "python3"
  },
  "language_info": {
   "codemirror_mode": {
    "name": "ipython",
    "version": 3
   },
   "file_extension": ".py",
   "mimetype": "text/x-python",
   "name": "python",
   "nbconvert_exporter": "python",
   "pygments_lexer": "ipython3",
   "version": "3.10.12"
  },
  "toc": {
   "base_numbering": 1,
   "nav_menu": {},
   "number_sections": true,
   "sideBar": true,
   "skip_h1_title": false,
   "title_cell": "Table of Contents",
   "title_sidebar": "Contents",
   "toc_cell": false,
   "toc_position": {},
   "toc_section_display": true,
   "toc_window_display": false
  },
  "varInspector": {
   "cols": {
    "lenName": 16,
    "lenType": 16,
    "lenVar": 40
   },
   "kernels_config": {
    "python": {
     "delete_cmd_postfix": "",
     "delete_cmd_prefix": "del ",
     "library": "var_list.py",
     "varRefreshCmd": "print(var_dic_list())"
    },
    "r": {
     "delete_cmd_postfix": ") ",
     "delete_cmd_prefix": "rm(",
     "library": "var_list.r",
     "varRefreshCmd": "cat(var_dic_list()) "
    }
   },
   "types_to_exclude": [
    "module",
    "function",
    "builtin_function_or_method",
    "instance",
    "_Feature"
   ],
   "window_display": false
  }
 },
 "nbformat": 4,
 "nbformat_minor": 1
}
